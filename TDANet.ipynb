{
  "nbformat": 4,
  "nbformat_minor": 0,
  "metadata": {
    "colab": {
      "provenance": [],
      "authorship_tag": "ABX9TyNm2sClFDc/AJtIGsKi+VIk",
      "include_colab_link": true
    },
    "kernelspec": {
      "name": "python3",
      "display_name": "Python 3"
    },
    "language_info": {
      "name": "python"
    }
  },
  "cells": [
    {
      "cell_type": "markdown",
      "metadata": {
        "id": "view-in-github",
        "colab_type": "text"
      },
      "source": [
        "<a href=\"https://colab.research.google.com/github/FaizanHassanSiddiqui/Assignments-Repository/blob/master/TDANet.ipynb\" target=\"_parent\"><img src=\"https://colab.research.google.com/assets/colab-badge.svg\" alt=\"Open In Colab\"/></a>"
      ]
    },
    {
      "cell_type": "code",
      "execution_count": 1,
      "metadata": {
        "colab": {
          "base_uri": "https://localhost:8080/"
        },
        "id": "maCJ-IbsPRFl",
        "outputId": "b24a00a4-8724-40c3-dc15-290fcee14251"
      },
      "outputs": [
        {
          "output_type": "stream",
          "name": "stdout",
          "text": [
            "Looking in indexes: https://pypi.org/simple, https://us-python.pkg.dev/colab-wheels/public/simple/\n",
            "Collecting scikit-tda\n",
            "  Downloading scikit_tda-1.0.0-py3-none-any.whl (2.9 kB)\n",
            "Requirement already satisfied: scikit-learn in /usr/local/lib/python3.8/dist-packages (from scikit-tda) (1.0.2)\n",
            "Requirement already satisfied: scipy in /usr/local/lib/python3.8/dist-packages (from scikit-tda) (1.7.3)\n",
            "Requirement already satisfied: matplotlib in /usr/local/lib/python3.8/dist-packages (from scikit-tda) (3.2.2)\n",
            "Collecting tadasets\n",
            "  Downloading tadasets-0.0.4-py3-none-any.whl (7.1 kB)\n",
            "Requirement already satisfied: numpy in /usr/local/lib/python3.8/dist-packages (from scikit-tda) (1.21.6)\n",
            "Collecting ripser\n",
            "  Downloading ripser-0.6.4.tar.gz (74 kB)\n",
            "\u001b[2K     \u001b[90m━━━━━━━━━━━━━━━━━━━━━━━━━━━━━━━━━━━━━━━━\u001b[0m \u001b[32m74.6/74.6 KB\u001b[0m \u001b[31m2.7 MB/s\u001b[0m eta \u001b[36m0:00:00\u001b[0m\n",
            "\u001b[?25h  Installing build dependencies ... \u001b[?25l\u001b[?25hdone\n",
            "  Getting requirements to build wheel ... \u001b[?25l\u001b[?25hdone\n",
            "  Preparing metadata (pyproject.toml) ... \u001b[?25l\u001b[?25hdone\n",
            "Requirement already satisfied: Cython in /usr/local/lib/python3.8/dist-packages (from scikit-tda) (0.29.33)\n",
            "Collecting persim\n",
            "  Downloading persim-0.3.1-py3-none-any.whl (47 kB)\n",
            "\u001b[2K     \u001b[90m━━━━━━━━━━━━━━━━━━━━━━━━━━━━━━━━━━━━━━━━\u001b[0m \u001b[32m48.0/48.0 KB\u001b[0m \u001b[31m5.9 MB/s\u001b[0m eta \u001b[36m0:00:00\u001b[0m\n",
            "\u001b[?25hCollecting kmapper\n",
            "  Downloading kmapper-2.0.1-py3-none-any.whl (125 kB)\n",
            "\u001b[2K     \u001b[90m━━━━━━━━━━━━━━━━━━━━━━━━━━━━━━━━━━━━━━━\u001b[0m \u001b[32m126.0/126.0 KB\u001b[0m \u001b[31m8.4 MB/s\u001b[0m eta \u001b[36m0:00:00\u001b[0m\n",
            "\u001b[?25hRequirement already satisfied: pillow in /usr/local/lib/python3.8/dist-packages (from scikit-tda) (7.1.2)\n",
            "Requirement already satisfied: Jinja2 in /usr/local/lib/python3.8/dist-packages (from kmapper->scikit-tda) (2.11.3)\n",
            "Requirement already satisfied: cycler>=0.10 in /usr/local/lib/python3.8/dist-packages (from matplotlib->scikit-tda) (0.11.0)\n",
            "Requirement already satisfied: python-dateutil>=2.1 in /usr/local/lib/python3.8/dist-packages (from matplotlib->scikit-tda) (2.8.2)\n",
            "Requirement already satisfied: pyparsing!=2.0.4,!=2.1.2,!=2.1.6,>=2.0.1 in /usr/local/lib/python3.8/dist-packages (from matplotlib->scikit-tda) (3.0.9)\n",
            "Requirement already satisfied: kiwisolver>=1.0.1 in /usr/local/lib/python3.8/dist-packages (from matplotlib->scikit-tda) (1.4.4)\n",
            "Requirement already satisfied: joblib in /usr/local/lib/python3.8/dist-packages (from persim->scikit-tda) (1.2.0)\n",
            "Collecting deprecated\n",
            "  Downloading Deprecated-1.2.13-py2.py3-none-any.whl (9.6 kB)\n",
            "Collecting hopcroftkarp\n",
            "  Downloading hopcroftkarp-1.2.5.tar.gz (16 kB)\n",
            "  Preparing metadata (setup.py) ... \u001b[?25l\u001b[?25hdone\n",
            "Requirement already satisfied: threadpoolctl>=2.0.0 in /usr/local/lib/python3.8/dist-packages (from scikit-learn->scikit-tda) (3.1.0)\n",
            "Requirement already satisfied: six>=1.5 in /usr/local/lib/python3.8/dist-packages (from python-dateutil>=2.1->matplotlib->scikit-tda) (1.15.0)\n",
            "Requirement already satisfied: wrapt<2,>=1.10 in /usr/local/lib/python3.8/dist-packages (from deprecated->persim->scikit-tda) (1.14.1)\n",
            "Requirement already satisfied: MarkupSafe>=0.23 in /usr/local/lib/python3.8/dist-packages (from Jinja2->kmapper->scikit-tda) (2.0.1)\n",
            "Building wheels for collected packages: ripser, hopcroftkarp\n",
            "  Building wheel for ripser (pyproject.toml) ... \u001b[?25l\u001b[?25hdone\n",
            "  Created wheel for ripser: filename=ripser-0.6.4-cp38-cp38-linux_x86_64.whl size=688026 sha256=ec6ee81af02a7003c112dedad4bc9f28d610387d0f969ece99f4ad17583bc49f\n",
            "  Stored in directory: /root/.cache/pip/wheels/2a/91/ce/d7deed9ae6fb975821947c9aaa86134c95d2fe3f4b0f89b59e\n",
            "  Building wheel for hopcroftkarp (setup.py) ... \u001b[?25l\u001b[?25hdone\n",
            "  Created wheel for hopcroftkarp: filename=hopcroftkarp-1.2.5-py2.py3-none-any.whl size=18119 sha256=c9b72aedeab00efe8b8c0982c5c6812cf728cbebb4f5f34d769e9adfa461538b\n",
            "  Stored in directory: /root/.cache/pip/wheels/fb/f7/29/5c31600b478c23a3793be7cea9889d5eccb1e7ef40fef5e34e\n",
            "Successfully built ripser hopcroftkarp\n",
            "Installing collected packages: hopcroftkarp, deprecated, tadasets, persim, kmapper, ripser, scikit-tda\n",
            "Successfully installed deprecated-1.2.13 hopcroftkarp-1.2.5 kmapper-2.0.1 persim-0.3.1 ripser-0.6.4 scikit-tda-1.0.0 tadasets-0.0.4\n"
          ]
        }
      ],
      "source": [
        "!pip install scikit-tda"
      ]
    },
    {
      "cell_type": "code",
      "source": [
        "import torch\n",
        "import torch.nn as nn\n",
        "import torch.optim as optim\n",
        "import torch.nn.functional as F\n",
        "\n",
        "from torch.utils.tensorboard import SummaryWriter"
      ],
      "metadata": {
        "colab": {
          "base_uri": "https://localhost:8080/"
        },
        "id": "5zj9TQRvPimr",
        "outputId": "6fc010b3-6dcb-4a12-ac93-ab093537f697"
      },
      "execution_count": 4,
      "outputs": [
        {
          "output_type": "stream",
          "name": "stderr",
          "text": [
            "/usr/local/lib/python3.8/dist-packages/torch/cuda/__init__.py:497: UserWarning: Can't initialize NVML\n",
            "  warnings.warn(\"Can't initialize NVML\")\n"
          ]
        }
      ]
    },
    {
      "cell_type": "code",
      "source": [
        "torch.__version__"
      ],
      "metadata": {
        "colab": {
          "base_uri": "https://localhost:8080/",
          "height": 35
        },
        "id": "ODtroH6FRBAq",
        "outputId": "d4e64c5d-3082-4ea3-e5dd-dd49b29e9dff"
      },
      "execution_count": 3,
      "outputs": [
        {
          "output_type": "execute_result",
          "data": {
            "text/plain": [
              "'1.13.1+cu116'"
            ],
            "application/vnd.google.colaboratory.intrinsic+json": {
              "type": "string"
            }
          },
          "metadata": {},
          "execution_count": 3
        }
      ]
    },
    {
      "cell_type": "code",
      "source": [
        "class DeepStream(nn.Module):\n",
        "    def __init__(self, ):\n",
        "        super(DeepStream, self).__init__()\n",
        "        pass\n",
        "        \n",
        "    def forward(self, ):  \n",
        "        \n",
        "        pass\n",
        "        \n",
        "        return\n",
        "    \n",
        "    \n",
        "class TDAStream(nn.Module):\n",
        "    def __init__(self, ):\n",
        "        super(TDAStream, self).__init__()\n",
        "        pass\n",
        "    \n",
        "    def forward(self,):\n",
        "        pass\n",
        "        \n",
        "        return \n",
        "        \n",
        "        \n",
        "    \n",
        "class TDANet(nn.Module):\n",
        "    \n",
        "    def __init__(self, encoder, decoder):\n",
        "        super(TDANet, self).__init__()\n",
        "        \n",
        "        pass\n",
        "        \n",
        "    def forward(self, ):\n",
        "        pass\n",
        "        return "
      ],
      "metadata": {
        "id": "U5ksjSUZRZ1f"
      },
      "execution_count": null,
      "outputs": []
    },
    {
      "cell_type": "code",
      "source": [
        "\n",
        "encoder_net = DeepStream().to(device)\n",
        "\n",
        "\n",
        "Decoder_net = TDAStream().to(device)\n",
        "\n",
        "\n",
        "model = TDANet().to(device)"
      ],
      "metadata": {
        "id": "OPTma55CUn9x"
      },
      "execution_count": null,
      "outputs": []
    },
    {
      "cell_type": "code",
      "source": [
        "# Training hyperparameters\n",
        "\n",
        "num_epochs = 20\n",
        "learning_rate = 0.001\n",
        "batch_size = 64"
      ],
      "metadata": {
        "id": "aCjx5aaWWOz3"
      },
      "execution_count": null,
      "outputs": []
    },
    {
      "cell_type": "code",
      "source": [
        "\n",
        "criterion = nn.BCELoss()"
      ],
      "metadata": {
        "id": "lRT5Ilh1Vqhw"
      },
      "execution_count": null,
      "outputs": []
    },
    {
      "cell_type": "code",
      "source": [
        "# training loop\n",
        "\n",
        "for epoch in range(num_epochs):\n",
        "    \n",
        "    print(f'Epoch [{epoch} / {num_epochs}]')\n",
        "    \n",
        "    \n",
        "    for batch_idx, batch in enumerate(train_iter):\n",
        "        input_data = 0\n",
        "        target = 0\n",
        "        \n",
        "        output = model(input_data, target)\n",
        "       \n",
        "        \n",
        "        \n",
        "        optimizer.zero_grad()\n",
        "        \n",
        "        loss = criterion(output, target)\n",
        "        \n",
        "        loss.backward()\n",
        "        \n",
        "        torch.nn.utils.clip_grad_norm_(model.parameters(), max_norm=1)\n",
        "        \n",
        "        optimizer.step()\n",
        "        \n",
        "        \n",
        "        step +=1"
      ],
      "metadata": {
        "id": "2LnPjNntVbkJ"
      },
      "execution_count": null,
      "outputs": []
    }
  ]
}