{
  "cells": [
    {
      "cell_type": "markdown",
      "metadata": {
        "id": "view-in-github",
        "colab_type": "text"
      },
      "source": [
        "<a href=\"https://colab.research.google.com/github/FaizanHassanSiddiqui/Assignments-Repository/blob/master/Welcome_To_Colaboratory.ipynb\" target=\"_parent\"><img src=\"https://colab.research.google.com/assets/colab-badge.svg\" alt=\"Open In Colab\"/></a>"
      ]
    },
    {
      "cell_type": "code",
      "source": [
        "import os\n",
        "import random\n",
        "import shutil\n",
        "import cv2\n",
        "\n",
        "import matplotlib.pyplot as plt"
      ],
      "metadata": {
        "id": "vsoPdeazJLhU"
      },
      "execution_count": 71,
      "outputs": []
    },
    {
      "cell_type": "code",
      "source": [
        "# labels zip file brought into the directory of this notebook\n",
        "\n",
        "!gdown --id 1qmuSz3f_hxp2K03tYiyPFKhk862eGIYY"
      ],
      "metadata": {
        "colab": {
          "base_uri": "https://localhost:8080/"
        },
        "id": "GQ2bJrRfhUht",
        "outputId": "eaea5671-3922-4561-adf0-e2bef39f3db3"
      },
      "execution_count": 33,
      "outputs": [
        {
          "output_type": "stream",
          "name": "stdout",
          "text": [
            "/usr/local/lib/python3.7/dist-packages/gdown/cli.py:131: FutureWarning: Option `--id` was deprecated in version 4.3.1 and will be removed in 5.0. You don't need to pass it anymore to use a file ID.\n",
            "  category=FutureWarning,\n",
            "Downloading...\n",
            "From: https://drive.google.com/uc?id=1qmuSz3f_hxp2K03tYiyPFKhk862eGIYY\n",
            "To: /content/labels.zip\n",
            "100% 39.9k/39.9k [00:00<00:00, 54.3MB/s]\n"
          ]
        }
      ]
    },
    {
      "cell_type": "code",
      "source": [
        "# images zip file brought into the directory of this notebook\n",
        "\n",
        "!gdown --id 1ydelW2l_0ffQ-Iv3rzrxyr811ags0srM"
      ],
      "metadata": {
        "colab": {
          "base_uri": "https://localhost:8080/"
        },
        "id": "Wsg3QdSqGmZB",
        "outputId": "c600c93b-fd29-4f3d-98ee-fd49d026e86f"
      },
      "execution_count": 34,
      "outputs": [
        {
          "output_type": "stream",
          "name": "stdout",
          "text": [
            "/usr/local/lib/python3.7/dist-packages/gdown/cli.py:131: FutureWarning: Option `--id` was deprecated in version 4.3.1 and will be removed in 5.0. You don't need to pass it anymore to use a file ID.\n",
            "  category=FutureWarning,\n",
            "Downloading...\n",
            "From: https://drive.google.com/uc?id=1ydelW2l_0ffQ-Iv3rzrxyr811ags0srM\n",
            "To: /content/dataset.zip\n",
            "100% 920M/920M [00:03<00:00, 291MB/s]\n"
          ]
        }
      ]
    },
    {
      "cell_type": "code",
      "source": [
        "# unzip images\n",
        "!unzip -u \"/content/dataset.zip\" -d \"/content/dataset/images\""
      ],
      "metadata": {
        "colab": {
          "base_uri": "https://localhost:8080/"
        },
        "id": "61CliYw1Hu5i",
        "outputId": "7ac8743f-d0b1-4b5a-e413-fec3ca6a6c41"
      },
      "execution_count": 42,
      "outputs": [
        {
          "output_type": "stream",
          "name": "stdout",
          "text": [
            "Archive:  /content/dataset.zip\n",
            "   creating: /content/dataset/images/dataset/\n",
            "  inflating: /content/dataset/images/dataset/ (1).JPG  \n",
            "  inflating: /content/dataset/images/dataset/ (10).JPG  \n",
            "  inflating: /content/dataset/images/dataset/ (100).JPG  \n",
            "  inflating: /content/dataset/images/dataset/ (101).JPG  \n",
            "  inflating: /content/dataset/images/dataset/ (102).JPG  \n",
            "  inflating: /content/dataset/images/dataset/ (103).JPG  \n",
            "  inflating: /content/dataset/images/dataset/ (104).JPG  \n",
            "  inflating: /content/dataset/images/dataset/ (105).JPG  \n",
            "  inflating: /content/dataset/images/dataset/ (106).JPG  \n",
            "  inflating: /content/dataset/images/dataset/ (107).JPG  \n",
            "  inflating: /content/dataset/images/dataset/ (108).JPG  \n",
            "  inflating: /content/dataset/images/dataset/ (109).JPG  \n",
            "  inflating: /content/dataset/images/dataset/ (11).JPG  \n",
            "  inflating: /content/dataset/images/dataset/ (110).JPG  \n",
            "  inflating: /content/dataset/images/dataset/ (111).JPG  \n",
            "  inflating: /content/dataset/images/dataset/ (112).JPG  \n",
            "  inflating: /content/dataset/images/dataset/ (113).JPG  \n",
            "  inflating: /content/dataset/images/dataset/ (114).JPG  \n",
            "  inflating: /content/dataset/images/dataset/ (115).JPG  \n",
            "  inflating: /content/dataset/images/dataset/ (116).JPG  \n",
            "  inflating: /content/dataset/images/dataset/ (117).JPG  \n",
            "  inflating: /content/dataset/images/dataset/ (118).JPG  \n",
            "  inflating: /content/dataset/images/dataset/ (119).JPG  \n",
            "  inflating: /content/dataset/images/dataset/ (12).JPG  \n",
            "  inflating: /content/dataset/images/dataset/ (120).JPG  \n",
            "  inflating: /content/dataset/images/dataset/ (121).JPG  \n",
            "  inflating: /content/dataset/images/dataset/ (122).JPG  \n",
            "  inflating: /content/dataset/images/dataset/ (123).JPG  \n",
            "  inflating: /content/dataset/images/dataset/ (124).JPG  \n",
            "  inflating: /content/dataset/images/dataset/ (125).JPG  \n",
            "  inflating: /content/dataset/images/dataset/ (126).JPG  \n",
            "  inflating: /content/dataset/images/dataset/ (127).JPG  \n",
            "  inflating: /content/dataset/images/dataset/ (128).JPG  \n",
            "  inflating: /content/dataset/images/dataset/ (129).JPG  \n",
            "  inflating: /content/dataset/images/dataset/ (13).JPG  \n",
            "  inflating: /content/dataset/images/dataset/ (130).JPG  \n",
            "  inflating: /content/dataset/images/dataset/ (131).JPG  \n",
            "  inflating: /content/dataset/images/dataset/ (132).JPG  \n",
            "  inflating: /content/dataset/images/dataset/ (133).JPG  \n",
            "  inflating: /content/dataset/images/dataset/ (134).JPG  \n",
            "  inflating: /content/dataset/images/dataset/ (135).JPG  \n",
            "  inflating: /content/dataset/images/dataset/ (136).JPG  \n",
            "  inflating: /content/dataset/images/dataset/ (137).JPG  \n",
            "  inflating: /content/dataset/images/dataset/ (138).JPG  \n",
            "  inflating: /content/dataset/images/dataset/ (139).JPG  \n",
            "  inflating: /content/dataset/images/dataset/ (14).JPG  \n",
            "  inflating: /content/dataset/images/dataset/ (140).JPG  \n",
            "  inflating: /content/dataset/images/dataset/ (141).JPG  \n",
            "  inflating: /content/dataset/images/dataset/ (142).JPG  \n",
            "  inflating: /content/dataset/images/dataset/ (143).JPG  \n",
            "  inflating: /content/dataset/images/dataset/ (144).JPG  \n",
            "  inflating: /content/dataset/images/dataset/ (145).JPG  \n",
            "  inflating: /content/dataset/images/dataset/ (146).JPG  \n",
            "  inflating: /content/dataset/images/dataset/ (147).JPG  \n",
            "  inflating: /content/dataset/images/dataset/ (148).JPG  \n",
            "  inflating: /content/dataset/images/dataset/ (149).JPG  \n",
            "  inflating: /content/dataset/images/dataset/ (15).JPG  \n",
            "  inflating: /content/dataset/images/dataset/ (150).JPG  \n",
            "  inflating: /content/dataset/images/dataset/ (151).JPG  \n",
            "  inflating: /content/dataset/images/dataset/ (152).JPG  \n",
            "  inflating: /content/dataset/images/dataset/ (153).JPG  \n",
            "  inflating: /content/dataset/images/dataset/ (154).JPG  \n",
            "  inflating: /content/dataset/images/dataset/ (155).JPG  \n",
            "  inflating: /content/dataset/images/dataset/ (156).JPG  \n",
            "  inflating: /content/dataset/images/dataset/ (157).JPG  \n",
            "  inflating: /content/dataset/images/dataset/ (158).JPG  \n",
            "  inflating: /content/dataset/images/dataset/ (159).JPG  \n",
            "  inflating: /content/dataset/images/dataset/ (16).JPG  \n",
            "  inflating: /content/dataset/images/dataset/ (160).JPG  \n",
            "  inflating: /content/dataset/images/dataset/ (161).JPG  \n",
            "  inflating: /content/dataset/images/dataset/ (162).JPG  \n",
            "  inflating: /content/dataset/images/dataset/ (163).JPG  \n",
            "  inflating: /content/dataset/images/dataset/ (164).JPG  \n",
            "  inflating: /content/dataset/images/dataset/ (165).JPG  \n",
            "  inflating: /content/dataset/images/dataset/ (166).JPG  \n",
            "  inflating: /content/dataset/images/dataset/ (167).JPG  \n",
            "  inflating: /content/dataset/images/dataset/ (168).JPG  \n",
            "  inflating: /content/dataset/images/dataset/ (169).JPG  \n",
            "  inflating: /content/dataset/images/dataset/ (17).JPG  \n",
            "  inflating: /content/dataset/images/dataset/ (170).JPG  \n",
            "  inflating: /content/dataset/images/dataset/ (171).JPG  \n",
            "  inflating: /content/dataset/images/dataset/ (172).JPG  \n",
            "  inflating: /content/dataset/images/dataset/ (173).JPG  \n",
            "  inflating: /content/dataset/images/dataset/ (174).JPG  \n",
            "  inflating: /content/dataset/images/dataset/ (175).JPG  \n",
            "  inflating: /content/dataset/images/dataset/ (176).JPG  \n",
            "  inflating: /content/dataset/images/dataset/ (177).JPG  \n",
            "  inflating: /content/dataset/images/dataset/ (178).JPG  \n",
            "  inflating: /content/dataset/images/dataset/ (179).JPG  \n",
            "  inflating: /content/dataset/images/dataset/ (18).JPG  \n",
            "  inflating: /content/dataset/images/dataset/ (180).JPG  \n",
            "  inflating: /content/dataset/images/dataset/ (181).JPG  \n",
            "  inflating: /content/dataset/images/dataset/ (182).JPG  \n",
            "  inflating: /content/dataset/images/dataset/ (183).JPG  \n",
            "  inflating: /content/dataset/images/dataset/ (184).JPG  \n",
            "  inflating: /content/dataset/images/dataset/ (185).JPG  \n",
            "  inflating: /content/dataset/images/dataset/ (186).JPG  \n",
            "  inflating: /content/dataset/images/dataset/ (187).JPG  \n",
            "  inflating: /content/dataset/images/dataset/ (188).JPG  \n",
            "  inflating: /content/dataset/images/dataset/ (189).JPG  \n",
            "  inflating: /content/dataset/images/dataset/ (19).JPG  \n",
            "  inflating: /content/dataset/images/dataset/ (190).JPG  \n",
            "  inflating: /content/dataset/images/dataset/ (191).JPG  \n",
            "  inflating: /content/dataset/images/dataset/ (192).JPG  \n",
            "  inflating: /content/dataset/images/dataset/ (193).JPG  \n",
            "  inflating: /content/dataset/images/dataset/ (194).JPG  \n",
            "  inflating: /content/dataset/images/dataset/ (195).JPG  \n",
            "  inflating: /content/dataset/images/dataset/ (196).JPG  \n",
            "  inflating: /content/dataset/images/dataset/ (197).JPG  \n",
            "  inflating: /content/dataset/images/dataset/ (198).JPG  \n",
            "  inflating: /content/dataset/images/dataset/ (199).JPG  \n",
            "  inflating: /content/dataset/images/dataset/ (2).JPG  \n",
            "  inflating: /content/dataset/images/dataset/ (20).JPG  \n",
            "  inflating: /content/dataset/images/dataset/ (200).JPG  \n",
            "  inflating: /content/dataset/images/dataset/ (201).JPG  \n",
            "  inflating: /content/dataset/images/dataset/ (202).JPG  \n",
            "  inflating: /content/dataset/images/dataset/ (203).JPG  \n",
            "  inflating: /content/dataset/images/dataset/ (204).JPG  \n",
            "  inflating: /content/dataset/images/dataset/ (205).JPG  \n",
            "  inflating: /content/dataset/images/dataset/ (206).JPG  \n",
            "  inflating: /content/dataset/images/dataset/ (207).JPG  \n",
            "  inflating: /content/dataset/images/dataset/ (208).JPG  \n",
            "  inflating: /content/dataset/images/dataset/ (209).JPG  \n",
            "  inflating: /content/dataset/images/dataset/ (21).JPG  \n",
            "  inflating: /content/dataset/images/dataset/ (210).JPG  \n",
            "  inflating: /content/dataset/images/dataset/ (211).JPG  \n",
            "  inflating: /content/dataset/images/dataset/ (212).JPG  \n",
            "  inflating: /content/dataset/images/dataset/ (213).JPG  \n",
            "  inflating: /content/dataset/images/dataset/ (214).JPG  \n",
            "  inflating: /content/dataset/images/dataset/ (215).JPG  \n",
            "  inflating: /content/dataset/images/dataset/ (216).JPG  \n",
            "  inflating: /content/dataset/images/dataset/ (217).JPG  \n",
            "  inflating: /content/dataset/images/dataset/ (218).JPG  \n",
            "  inflating: /content/dataset/images/dataset/ (219).JPG  \n",
            "  inflating: /content/dataset/images/dataset/ (22).JPG  \n",
            "  inflating: /content/dataset/images/dataset/ (220).JPG  \n",
            "  inflating: /content/dataset/images/dataset/ (221).JPG  \n",
            "  inflating: /content/dataset/images/dataset/ (222).JPG  \n",
            "  inflating: /content/dataset/images/dataset/ (223).JPG  \n",
            "  inflating: /content/dataset/images/dataset/ (224).JPG  \n",
            "  inflating: /content/dataset/images/dataset/ (225).JPG  \n",
            "  inflating: /content/dataset/images/dataset/ (226).JPG  \n",
            "  inflating: /content/dataset/images/dataset/ (227).JPG  \n",
            "  inflating: /content/dataset/images/dataset/ (228).JPG  \n",
            "  inflating: /content/dataset/images/dataset/ (229).JPG  \n",
            "  inflating: /content/dataset/images/dataset/ (23).JPG  \n",
            "  inflating: /content/dataset/images/dataset/ (230).JPG  \n",
            "  inflating: /content/dataset/images/dataset/ (231).JPG  \n",
            "  inflating: /content/dataset/images/dataset/ (232).JPG  \n",
            "  inflating: /content/dataset/images/dataset/ (24).JPG  \n",
            "  inflating: /content/dataset/images/dataset/ (25).JPG  \n",
            "  inflating: /content/dataset/images/dataset/ (26).JPG  \n",
            "  inflating: /content/dataset/images/dataset/ (27).JPG  \n",
            "  inflating: /content/dataset/images/dataset/ (28).JPG  \n",
            "  inflating: /content/dataset/images/dataset/ (29).JPG  \n",
            "  inflating: /content/dataset/images/dataset/ (3).JPG  \n",
            "  inflating: /content/dataset/images/dataset/ (30).JPG  \n",
            "  inflating: /content/dataset/images/dataset/ (31).JPG  \n",
            "  inflating: /content/dataset/images/dataset/ (32).JPG  \n",
            "  inflating: /content/dataset/images/dataset/ (33).JPG  \n",
            "  inflating: /content/dataset/images/dataset/ (34).JPG  \n",
            "  inflating: /content/dataset/images/dataset/ (35).JPG  \n",
            "  inflating: /content/dataset/images/dataset/ (36).JPG  \n",
            "  inflating: /content/dataset/images/dataset/ (37).JPG  \n",
            "  inflating: /content/dataset/images/dataset/ (38).JPG  \n",
            "  inflating: /content/dataset/images/dataset/ (39).JPG  \n",
            "  inflating: /content/dataset/images/dataset/ (4).JPG  \n",
            "  inflating: /content/dataset/images/dataset/ (40).JPG  \n",
            "  inflating: /content/dataset/images/dataset/ (41).JPG  \n",
            "  inflating: /content/dataset/images/dataset/ (42).JPG  \n",
            "  inflating: /content/dataset/images/dataset/ (43).JPG  \n",
            "  inflating: /content/dataset/images/dataset/ (44).JPG  \n",
            "  inflating: /content/dataset/images/dataset/ (45).JPG  \n",
            "  inflating: /content/dataset/images/dataset/ (46).JPG  \n",
            "  inflating: /content/dataset/images/dataset/ (47).JPG  \n",
            "  inflating: /content/dataset/images/dataset/ (48).JPG  \n",
            "  inflating: /content/dataset/images/dataset/ (49).JPG  \n",
            "  inflating: /content/dataset/images/dataset/ (5).JPG  \n",
            "  inflating: /content/dataset/images/dataset/ (50).JPG  \n",
            "  inflating: /content/dataset/images/dataset/ (51).JPG  \n",
            "  inflating: /content/dataset/images/dataset/ (52).JPG  \n",
            "  inflating: /content/dataset/images/dataset/ (53).JPG  \n",
            "  inflating: /content/dataset/images/dataset/ (54).JPG  \n",
            "  inflating: /content/dataset/images/dataset/ (55).JPG  \n",
            "  inflating: /content/dataset/images/dataset/ (56).JPG  \n",
            "  inflating: /content/dataset/images/dataset/ (57).JPG  \n",
            "  inflating: /content/dataset/images/dataset/ (58).JPG  \n",
            "  inflating: /content/dataset/images/dataset/ (59).JPG  \n",
            "  inflating: /content/dataset/images/dataset/ (6).JPG  \n",
            "  inflating: /content/dataset/images/dataset/ (60).JPG  \n",
            "  inflating: /content/dataset/images/dataset/ (61).JPG  \n",
            "  inflating: /content/dataset/images/dataset/ (62).JPG  \n",
            "  inflating: /content/dataset/images/dataset/ (63).JPG  \n",
            "  inflating: /content/dataset/images/dataset/ (64).JPG  \n",
            "  inflating: /content/dataset/images/dataset/ (65).JPG  \n",
            "  inflating: /content/dataset/images/dataset/ (66).JPG  \n",
            "  inflating: /content/dataset/images/dataset/ (67).JPG  \n",
            "  inflating: /content/dataset/images/dataset/ (68).JPG  \n",
            "  inflating: /content/dataset/images/dataset/ (69).JPG  \n",
            "  inflating: /content/dataset/images/dataset/ (7).JPG  \n",
            "  inflating: /content/dataset/images/dataset/ (70).JPG  \n",
            "  inflating: /content/dataset/images/dataset/ (71).JPG  \n",
            "  inflating: /content/dataset/images/dataset/ (72).JPG  \n",
            "  inflating: /content/dataset/images/dataset/ (73).JPG  \n",
            "  inflating: /content/dataset/images/dataset/ (74).JPG  \n",
            "  inflating: /content/dataset/images/dataset/ (75).JPG  \n",
            "  inflating: /content/dataset/images/dataset/ (76).JPG  \n",
            "  inflating: /content/dataset/images/dataset/ (77).JPG  \n",
            "  inflating: /content/dataset/images/dataset/ (78).JPG  \n",
            "  inflating: /content/dataset/images/dataset/ (79).JPG  \n",
            "  inflating: /content/dataset/images/dataset/ (8).JPG  \n",
            "  inflating: /content/dataset/images/dataset/ (80).JPG  \n",
            "  inflating: /content/dataset/images/dataset/ (81).JPG  \n",
            "  inflating: /content/dataset/images/dataset/ (82).JPG  \n",
            "  inflating: /content/dataset/images/dataset/ (83).JPG  \n",
            "  inflating: /content/dataset/images/dataset/ (84).JPG  \n",
            "  inflating: /content/dataset/images/dataset/ (85).JPG  \n",
            "  inflating: /content/dataset/images/dataset/ (86).JPG  \n",
            "  inflating: /content/dataset/images/dataset/ (87).JPG  \n",
            "  inflating: /content/dataset/images/dataset/ (88).JPG  \n",
            "  inflating: /content/dataset/images/dataset/ (89).JPG  \n",
            "  inflating: /content/dataset/images/dataset/ (9).JPG  \n",
            "  inflating: /content/dataset/images/dataset/ (90).JPG  \n",
            "  inflating: /content/dataset/images/dataset/ (91).JPG  \n",
            "  inflating: /content/dataset/images/dataset/ (92).JPG  \n",
            "  inflating: /content/dataset/images/dataset/ (93).JPG  \n",
            "  inflating: /content/dataset/images/dataset/ (94).JPG  \n",
            "  inflating: /content/dataset/images/dataset/ (95).JPG  \n",
            "  inflating: /content/dataset/images/dataset/ (96).JPG  \n",
            "  inflating: /content/dataset/images/dataset/ (97).JPG  \n",
            "  inflating: /content/dataset/images/dataset/ (98).JPG  \n",
            "  inflating: /content/dataset/images/dataset/ (99).JPG  \n"
          ]
        }
      ]
    },
    {
      "cell_type": "code",
      "source": [
        "\n",
        "# unzip labels\n",
        "!unzip -u \"/content/labels.zip\" -d \"/content/dataset/labels\""
      ],
      "metadata": {
        "colab": {
          "base_uri": "https://localhost:8080/"
        },
        "id": "5dqfCzb7F5gL",
        "outputId": "5878e925-a0e8-4de7-d722-ca12ed701a32"
      },
      "execution_count": 43,
      "outputs": [
        {
          "output_type": "stream",
          "name": "stdout",
          "text": [
            "Archive:  /content/labels.zip\n",
            " extracting: /content/dataset/labels/ (1).txt  \n",
            " extracting: /content/dataset/labels/ (10).txt  \n",
            " extracting: /content/dataset/labels/ (100).txt  \n",
            " extracting: /content/dataset/labels/ (101).txt  \n",
            " extracting: /content/dataset/labels/ (102).txt  \n",
            " extracting: /content/dataset/labels/ (103).txt  \n",
            " extracting: /content/dataset/labels/ (104).txt  \n",
            " extracting: /content/dataset/labels/ (105).txt  \n",
            " extracting: /content/dataset/labels/ (106).txt  \n",
            " extracting: /content/dataset/labels/ (107).txt  \n",
            " extracting: /content/dataset/labels/ (108).txt  \n",
            " extracting: /content/dataset/labels/ (109).txt  \n",
            " extracting: /content/dataset/labels/ (11).txt  \n",
            " extracting: /content/dataset/labels/ (110).txt  \n",
            " extracting: /content/dataset/labels/ (111).txt  \n",
            " extracting: /content/dataset/labels/ (112).txt  \n",
            " extracting: /content/dataset/labels/ (113).txt  \n",
            " extracting: /content/dataset/labels/ (114).txt  \n",
            " extracting: /content/dataset/labels/ (115).txt  \n",
            " extracting: /content/dataset/labels/ (116).txt  \n",
            " extracting: /content/dataset/labels/ (117).txt  \n",
            " extracting: /content/dataset/labels/ (118).txt  \n",
            " extracting: /content/dataset/labels/ (119).txt  \n",
            " extracting: /content/dataset/labels/ (12).txt  \n",
            " extracting: /content/dataset/labels/ (120).txt  \n",
            " extracting: /content/dataset/labels/ (121).txt  \n",
            " extracting: /content/dataset/labels/ (122).txt  \n",
            " extracting: /content/dataset/labels/ (123).txt  \n",
            " extracting: /content/dataset/labels/ (124).txt  \n",
            " extracting: /content/dataset/labels/ (125).txt  \n",
            " extracting: /content/dataset/labels/ (126).txt  \n",
            " extracting: /content/dataset/labels/ (127).txt  \n",
            " extracting: /content/dataset/labels/ (128).txt  \n",
            " extracting: /content/dataset/labels/ (129).txt  \n",
            " extracting: /content/dataset/labels/ (13).txt  \n",
            " extracting: /content/dataset/labels/ (130).txt  \n",
            " extracting: /content/dataset/labels/ (131).txt  \n",
            " extracting: /content/dataset/labels/ (132).txt  \n",
            " extracting: /content/dataset/labels/ (133).txt  \n",
            " extracting: /content/dataset/labels/ (134).txt  \n",
            " extracting: /content/dataset/labels/ (135).txt  \n",
            " extracting: /content/dataset/labels/ (136).txt  \n",
            " extracting: /content/dataset/labels/ (137).txt  \n",
            " extracting: /content/dataset/labels/ (138).txt  \n",
            " extracting: /content/dataset/labels/ (139).txt  \n",
            " extracting: /content/dataset/labels/ (14).txt  \n",
            " extracting: /content/dataset/labels/ (140).txt  \n",
            " extracting: /content/dataset/labels/ (141).txt  \n",
            " extracting: /content/dataset/labels/ (142).txt  \n",
            " extracting: /content/dataset/labels/ (143).txt  \n",
            " extracting: /content/dataset/labels/ (144).txt  \n",
            " extracting: /content/dataset/labels/ (145).txt  \n",
            " extracting: /content/dataset/labels/ (146).txt  \n",
            " extracting: /content/dataset/labels/ (147).txt  \n",
            " extracting: /content/dataset/labels/ (148).txt  \n",
            " extracting: /content/dataset/labels/ (149).txt  \n",
            " extracting: /content/dataset/labels/ (15).txt  \n",
            " extracting: /content/dataset/labels/ (150).txt  \n",
            " extracting: /content/dataset/labels/ (151).txt  \n",
            " extracting: /content/dataset/labels/ (152).txt  \n",
            " extracting: /content/dataset/labels/ (153).txt  \n",
            " extracting: /content/dataset/labels/ (154).txt  \n",
            " extracting: /content/dataset/labels/ (155).txt  \n",
            " extracting: /content/dataset/labels/ (156).txt  \n",
            " extracting: /content/dataset/labels/ (157).txt  \n",
            " extracting: /content/dataset/labels/ (158).txt  \n",
            " extracting: /content/dataset/labels/ (159).txt  \n",
            " extracting: /content/dataset/labels/ (16).txt  \n",
            " extracting: /content/dataset/labels/ (160).txt  \n",
            " extracting: /content/dataset/labels/ (161).txt  \n",
            " extracting: /content/dataset/labels/ (162).txt  \n",
            " extracting: /content/dataset/labels/ (163).txt  \n",
            " extracting: /content/dataset/labels/ (164).txt  \n",
            " extracting: /content/dataset/labels/ (165).txt  \n",
            " extracting: /content/dataset/labels/ (166).txt  \n",
            " extracting: /content/dataset/labels/ (167).txt  \n",
            " extracting: /content/dataset/labels/ (168).txt  \n",
            " extracting: /content/dataset/labels/ (169).txt  \n",
            " extracting: /content/dataset/labels/ (17).txt  \n",
            " extracting: /content/dataset/labels/ (170).txt  \n",
            " extracting: /content/dataset/labels/ (171).txt  \n",
            " extracting: /content/dataset/labels/ (172).txt  \n",
            " extracting: /content/dataset/labels/ (173).txt  \n",
            " extracting: /content/dataset/labels/ (174).txt  \n",
            " extracting: /content/dataset/labels/ (175).txt  \n",
            " extracting: /content/dataset/labels/ (176).txt  \n",
            " extracting: /content/dataset/labels/ (177).txt  \n",
            " extracting: /content/dataset/labels/ (178).txt  \n",
            " extracting: /content/dataset/labels/ (179).txt  \n",
            " extracting: /content/dataset/labels/ (18).txt  \n",
            " extracting: /content/dataset/labels/ (180).txt  \n",
            " extracting: /content/dataset/labels/ (181).txt  \n",
            " extracting: /content/dataset/labels/ (182).txt  \n",
            " extracting: /content/dataset/labels/ (183).txt  \n",
            " extracting: /content/dataset/labels/ (184).txt  \n",
            " extracting: /content/dataset/labels/ (185).txt  \n",
            " extracting: /content/dataset/labels/ (186).txt  \n",
            " extracting: /content/dataset/labels/ (187).txt  \n",
            " extracting: /content/dataset/labels/ (188).txt  \n",
            " extracting: /content/dataset/labels/ (189).txt  \n",
            " extracting: /content/dataset/labels/ (19).txt  \n",
            " extracting: /content/dataset/labels/ (190).txt  \n",
            " extracting: /content/dataset/labels/ (191).txt  \n",
            " extracting: /content/dataset/labels/ (192).txt  \n",
            " extracting: /content/dataset/labels/ (193).txt  \n",
            " extracting: /content/dataset/labels/ (194).txt  \n",
            " extracting: /content/dataset/labels/ (195).txt  \n",
            " extracting: /content/dataset/labels/ (196).txt  \n",
            " extracting: /content/dataset/labels/ (197).txt  \n",
            " extracting: /content/dataset/labels/ (198).txt  \n",
            " extracting: /content/dataset/labels/ (199).txt  \n",
            " extracting: /content/dataset/labels/ (2).txt  \n",
            " extracting: /content/dataset/labels/ (20).txt  \n",
            " extracting: /content/dataset/labels/ (200).txt  \n",
            " extracting: /content/dataset/labels/ (201).txt  \n",
            " extracting: /content/dataset/labels/ (202).txt  \n",
            " extracting: /content/dataset/labels/ (203).txt  \n",
            " extracting: /content/dataset/labels/ (204).txt  \n",
            " extracting: /content/dataset/labels/ (205).txt  \n",
            " extracting: /content/dataset/labels/ (206).txt  \n",
            " extracting: /content/dataset/labels/ (207).txt  \n",
            " extracting: /content/dataset/labels/ (208).txt  \n",
            " extracting: /content/dataset/labels/ (209).txt  \n",
            " extracting: /content/dataset/labels/ (21).txt  \n",
            " extracting: /content/dataset/labels/ (210).txt  \n",
            " extracting: /content/dataset/labels/ (211).txt  \n",
            " extracting: /content/dataset/labels/ (212).txt  \n",
            " extracting: /content/dataset/labels/ (213).txt  \n",
            " extracting: /content/dataset/labels/ (214).txt  \n",
            " extracting: /content/dataset/labels/ (215).txt  \n",
            " extracting: /content/dataset/labels/ (216).txt  \n",
            " extracting: /content/dataset/labels/ (217).txt  \n",
            " extracting: /content/dataset/labels/ (218).txt  \n",
            " extracting: /content/dataset/labels/ (219).txt  \n",
            " extracting: /content/dataset/labels/ (22).txt  \n",
            " extracting: /content/dataset/labels/ (220).txt  \n",
            " extracting: /content/dataset/labels/ (221).txt  \n",
            " extracting: /content/dataset/labels/ (222).txt  \n",
            " extracting: /content/dataset/labels/ (223).txt  \n",
            " extracting: /content/dataset/labels/ (224).txt  \n",
            " extracting: /content/dataset/labels/ (225).txt  \n",
            " extracting: /content/dataset/labels/ (226).txt  \n",
            " extracting: /content/dataset/labels/ (227).txt  \n",
            " extracting: /content/dataset/labels/ (228).txt  \n",
            " extracting: /content/dataset/labels/ (229).txt  \n",
            " extracting: /content/dataset/labels/ (23).txt  \n",
            " extracting: /content/dataset/labels/ (230).txt  \n",
            " extracting: /content/dataset/labels/ (231).txt  \n",
            " extracting: /content/dataset/labels/ (232).txt  \n",
            " extracting: /content/dataset/labels/ (24).txt  \n",
            " extracting: /content/dataset/labels/ (25).txt  \n",
            " extracting: /content/dataset/labels/ (26).txt  \n",
            " extracting: /content/dataset/labels/ (27).txt  \n",
            " extracting: /content/dataset/labels/ (28).txt  \n",
            " extracting: /content/dataset/labels/ (29).txt  \n",
            " extracting: /content/dataset/labels/ (3).txt  \n",
            " extracting: /content/dataset/labels/ (30).txt  \n",
            " extracting: /content/dataset/labels/ (31).txt  \n",
            " extracting: /content/dataset/labels/ (32).txt  \n",
            " extracting: /content/dataset/labels/ (33).txt  \n",
            " extracting: /content/dataset/labels/ (34).txt  \n",
            " extracting: /content/dataset/labels/ (35).txt  \n",
            " extracting: /content/dataset/labels/ (36).txt  \n",
            " extracting: /content/dataset/labels/ (37).txt  \n",
            " extracting: /content/dataset/labels/ (38).txt  \n",
            " extracting: /content/dataset/labels/ (39).txt  \n",
            " extracting: /content/dataset/labels/ (4).txt  \n",
            " extracting: /content/dataset/labels/ (40).txt  \n",
            " extracting: /content/dataset/labels/ (41).txt  \n",
            " extracting: /content/dataset/labels/ (42).txt  \n",
            " extracting: /content/dataset/labels/ (43).txt  \n",
            " extracting: /content/dataset/labels/ (44).txt  \n",
            " extracting: /content/dataset/labels/ (45).txt  \n",
            " extracting: /content/dataset/labels/ (46).txt  \n",
            " extracting: /content/dataset/labels/ (47).txt  \n",
            " extracting: /content/dataset/labels/ (48).txt  \n",
            " extracting: /content/dataset/labels/ (49).txt  \n",
            " extracting: /content/dataset/labels/ (5).txt  \n",
            " extracting: /content/dataset/labels/ (50).txt  \n",
            " extracting: /content/dataset/labels/ (51).txt  \n",
            " extracting: /content/dataset/labels/ (52).txt  \n",
            " extracting: /content/dataset/labels/ (53).txt  \n",
            " extracting: /content/dataset/labels/ (54).txt  \n",
            " extracting: /content/dataset/labels/ (55).txt  \n",
            " extracting: /content/dataset/labels/ (56).txt  \n",
            " extracting: /content/dataset/labels/ (57).txt  \n",
            " extracting: /content/dataset/labels/ (58).txt  \n",
            " extracting: /content/dataset/labels/ (59).txt  \n",
            " extracting: /content/dataset/labels/ (6).txt  \n",
            " extracting: /content/dataset/labels/ (60).txt  \n",
            " extracting: /content/dataset/labels/ (61).txt  \n",
            " extracting: /content/dataset/labels/ (62).txt  \n",
            " extracting: /content/dataset/labels/ (63).txt  \n",
            " extracting: /content/dataset/labels/ (64).txt  \n",
            " extracting: /content/dataset/labels/ (65).txt  \n",
            " extracting: /content/dataset/labels/ (66).txt  \n",
            " extracting: /content/dataset/labels/ (67).txt  \n",
            " extracting: /content/dataset/labels/ (68).txt  \n",
            " extracting: /content/dataset/labels/ (69).txt  \n",
            " extracting: /content/dataset/labels/ (7).txt  \n",
            " extracting: /content/dataset/labels/ (70).txt  \n",
            " extracting: /content/dataset/labels/ (71).txt  \n",
            " extracting: /content/dataset/labels/ (72).txt  \n",
            " extracting: /content/dataset/labels/ (73).txt  \n",
            " extracting: /content/dataset/labels/ (74).txt  \n",
            " extracting: /content/dataset/labels/ (75).txt  \n",
            " extracting: /content/dataset/labels/ (76).txt  \n",
            " extracting: /content/dataset/labels/ (77).txt  \n",
            " extracting: /content/dataset/labels/ (78).txt  \n",
            " extracting: /content/dataset/labels/ (79).txt  \n",
            " extracting: /content/dataset/labels/ (8).txt  \n",
            " extracting: /content/dataset/labels/ (80).txt  \n",
            " extracting: /content/dataset/labels/ (81).txt  \n",
            " extracting: /content/dataset/labels/ (82).txt  \n",
            " extracting: /content/dataset/labels/ (83).txt  \n",
            " extracting: /content/dataset/labels/ (84).txt  \n",
            " extracting: /content/dataset/labels/ (85).txt  \n",
            " extracting: /content/dataset/labels/ (86).txt  \n",
            " extracting: /content/dataset/labels/ (87).txt  \n",
            " extracting: /content/dataset/labels/ (88).txt  \n",
            " extracting: /content/dataset/labels/ (89).txt  \n",
            " extracting: /content/dataset/labels/ (9).txt  \n",
            " extracting: /content/dataset/labels/ (90).txt  \n",
            " extracting: /content/dataset/labels/ (91).txt  \n",
            " extracting: /content/dataset/labels/ (92).txt  \n",
            " extracting: /content/dataset/labels/ (93).txt  \n",
            " extracting: /content/dataset/labels/ (94).txt  \n",
            " extracting: /content/dataset/labels/ (95).txt  \n",
            " extracting: /content/dataset/labels/ (96).txt  \n",
            " extracting: /content/dataset/labels/ (97).txt  \n",
            " extracting: /content/dataset/labels/ (98).txt  \n",
            " extracting: /content/dataset/labels/ (99).txt  \n"
          ]
        }
      ]
    },
    {
      "cell_type": "code",
      "source": [
        "!pwd"
      ],
      "metadata": {
        "colab": {
          "base_uri": "https://localhost:8080/"
        },
        "id": "My0WRKi6IYA3",
        "outputId": "fc41b42b-867a-4587-d28b-ae41dfb0fe06"
      },
      "execution_count": 44,
      "outputs": [
        {
          "output_type": "stream",
          "name": "stdout",
          "text": [
            "/content\n"
          ]
        }
      ]
    },
    {
      "cell_type": "code",
      "source": [
        "images_datset_path = '/content/dataset/images/dataset'\n",
        "\n",
        "labels_path = '/content/dataset/labels'"
      ],
      "metadata": {
        "id": "Hul7tW6IIx0n"
      },
      "execution_count": 45,
      "outputs": []
    },
    {
      "cell_type": "code",
      "source": [
        "images_files =  os.listdir(images_datset_path)"
      ],
      "metadata": {
        "id": "xMQpkcw3JBzI"
      },
      "execution_count": 46,
      "outputs": []
    },
    {
      "cell_type": "code",
      "source": [
        "labels_files = os.listdir(labels_path)\n"
      ],
      "metadata": {
        "id": "UjsS6YctJBdX"
      },
      "execution_count": 47,
      "outputs": []
    },
    {
      "cell_type": "code",
      "source": [
        "indices = list(range(232))\n",
        "\n",
        "train_indices = random.sample(indices, 200)\n",
        "\n",
        "val_indices = [index for index in indices if index not in train_indices]"
      ],
      "metadata": {
        "id": "n8JruA8DJBGL"
      },
      "execution_count": 48,
      "outputs": []
    },
    {
      "cell_type": "code",
      "source": [
        "training_label_files = []\n",
        "training_images_images = []\n",
        "\n",
        "for index in train_indices:\n",
        "    label_file = labels_files[index]\n",
        "    number = label_file.strip(' (').strip(').txt')\n",
        "    training_label_files.append(label_file)\n",
        "    training_images_images.append(f' ({number}).JPG')\n",
        "\n",
        "val_label_files = []\n",
        "val_images_images = []\n",
        "\n",
        "for index in val_indices:\n",
        "    label_file = labels_files[index]\n",
        "    number = label_file.strip(' (').strip(').txt')\n",
        "    val_label_files.append(label_file)\n",
        "    val_images_images.append(f' ({number}).JPG')"
      ],
      "metadata": {
        "id": "sYEhSAxjJAWW"
      },
      "execution_count": 49,
      "outputs": []
    },
    {
      "cell_type": "code",
      "source": [
        "len(training_label_files), len(training_images_images), len(val_label_files), len(val_images_images)"
      ],
      "metadata": {
        "colab": {
          "base_uri": "https://localhost:8080/"
        },
        "id": "EL7NJSqpKhLx",
        "outputId": "0a867468-c4c1-4a1d-9f1c-0b334ddc499c"
      },
      "execution_count": 50,
      "outputs": [
        {
          "output_type": "execute_result",
          "data": {
            "text/plain": [
              "(200, 200, 32, 32)"
            ]
          },
          "metadata": {},
          "execution_count": 50
        }
      ]
    },
    {
      "cell_type": "code",
      "source": [
        "!pwd"
      ],
      "metadata": {
        "id": "dtCC3nOq1BYo",
        "outputId": "c48030a4-b110-48b3-9f83-b1bf8409aea1",
        "colab": {
          "base_uri": "https://localhost:8080/"
        }
      },
      "execution_count": 55,
      "outputs": [
        {
          "output_type": "stream",
          "name": "stdout",
          "text": [
            "/content\n"
          ]
        }
      ]
    },
    {
      "cell_type": "code",
      "source": [
        "# os.mkdir('./stationery_dataset')"
      ],
      "metadata": {
        "id": "xQnIzwzC0wsA"
      },
      "execution_count": 57,
      "outputs": []
    },
    {
      "cell_type": "code",
      "source": [
        "copy_path = '/content/stationery_dataset/labels/train'\n",
        "\n",
        "for file in training_label_files:\n",
        "    with open(f'/content/dataset/labels/{file}') as f:\n",
        "        f_content = f.read()\n",
        "    new_file_name = file.replace('(','').replace(')', '')\n",
        "    with open(os.path.join(copy_path, new_file_name), 'w' ) as f:\n",
        "        f.write(f_content)"
      ],
      "metadata": {
        "id": "ztIUIlS_KmAe"
      },
      "execution_count": 58,
      "outputs": []
    },
    {
      "cell_type": "code",
      "source": [
        "copy_path = '/content/stationery_dataset/labels/val'\n",
        "\n",
        "for file in val_label_files:\n",
        "    with open(f'/content/dataset/labels/{file}') as f:\n",
        "        f_content = f.read()\n",
        "    new_file_name = file.replace('(','').replace(')', '')\n",
        "    with open(os.path.join(copy_path, new_file_name), 'w' ) as f:\n",
        "        f.write(f_content)"
      ],
      "metadata": {
        "id": "_ovL6COeKmoh"
      },
      "execution_count": 59,
      "outputs": []
    },
    {
      "cell_type": "code",
      "source": [
        "copy_path = '/content/stationery_dataset/images/train'\n",
        "\n",
        "for file in training_images_images:\n",
        "\n",
        "    new_file_name = file.replace('(','').replace(')', '')\n",
        "    src_file_path = os.path.join('/content/dataset/images/dataset', file)\n",
        "    dest_path = os.path.join(copy_path, new_file_name)\n",
        "    shutil.copy(src_file_path, dest_path)"
      ],
      "metadata": {
        "id": "MykNkFkNKm83"
      },
      "execution_count": 60,
      "outputs": []
    },
    {
      "cell_type": "code",
      "source": [
        "copy_path = '/content/stationery_dataset/images/val'\n",
        "\n",
        "for file in val_images_images:\n",
        "\n",
        "    new_file_name = file.replace('(','').replace(')', '')\n",
        "    src_file_path = os.path.join('/content/dataset/images/dataset', file)\n",
        "    dest_path = os.path.join(copy_path, new_file_name)\n",
        "    shutil.copy(src_file_path, dest_path)"
      ],
      "metadata": {
        "id": "fgUcAxBiSMJD"
      },
      "execution_count": 61,
      "outputs": []
    },
    {
      "cell_type": "code",
      "source": [
        "# to empty a directory\n",
        "\n",
        "\n",
        "# dir = '/content/stationery_dataset/labels/val'\n",
        "\n",
        "# for file in os.listdir(dir):\n",
        "#   try:\n",
        "#     os.remove(os.path.join(dir, file))\n",
        "#   except:\n",
        "#     os.rmdir(os.path.join(dir, file))\n"
      ],
      "metadata": {
        "id": "uxCPUEONWjNJ"
      },
      "execution_count": null,
      "outputs": []
    },
    {
      "cell_type": "code",
      "source": [
        "os.listdir('/content/stationery_dataset/labels/train').__len__()"
      ],
      "metadata": {
        "colab": {
          "base_uri": "https://localhost:8080/"
        },
        "id": "opy33-ufYca9",
        "outputId": "7f354523-e948-463e-cf6b-bee31f6d17a4"
      },
      "execution_count": 64,
      "outputs": [
        {
          "output_type": "execute_result",
          "data": {
            "text/plain": [
              "200"
            ]
          },
          "metadata": {},
          "execution_count": 64
        }
      ]
    },
    {
      "cell_type": "code",
      "source": [
        "os.listdir('/content/stationery_dataset/images/val').__len__()"
      ],
      "metadata": {
        "colab": {
          "base_uri": "https://localhost:8080/"
        },
        "id": "PuLAtWYfYiCQ",
        "outputId": "6d51d66f-ca96-437d-b044-f68dbe4db29d"
      },
      "execution_count": 63,
      "outputs": [
        {
          "output_type": "execute_result",
          "data": {
            "text/plain": [
              "32"
            ]
          },
          "metadata": {},
          "execution_count": 63
        }
      ]
    },
    {
      "cell_type": "code",
      "source": [],
      "metadata": {
        "id": "Pp3eOfC2ZHnw"
      },
      "execution_count": 65,
      "outputs": []
    },
    {
      "cell_type": "code",
      "source": [
        "img_path = '/content/stationery_dataset/images/train/ 1.JPG'\n",
        "\n",
        "img = cv2.imread(img_path)"
      ],
      "metadata": {
        "id": "1kP-3kuwZHlX"
      },
      "execution_count": 66,
      "outputs": []
    },
    {
      "cell_type": "code",
      "source": [
        "img_height, img_width, _ = img.shape"
      ],
      "metadata": {
        "id": "-J_26zsVZHjG"
      },
      "execution_count": 67,
      "outputs": []
    },
    {
      "cell_type": "code",
      "source": [],
      "metadata": {
        "id": "PxvJDxBchy1n"
      },
      "execution_count": null,
      "outputs": []
    },
    {
      "cell_type": "code",
      "source": [
        "label_path = '/content/stationery_dataset/labels/train/ 1.txt'\n",
        "\n",
        "with open(label_path) as f:\n",
        "  file_content = f.readlines()\n",
        "\n",
        "print(file_content)"
      ],
      "metadata": {
        "colab": {
          "base_uri": "https://localhost:8080/"
        },
        "id": "e4pGBKDxceJZ",
        "outputId": "250c9e37-cad6-4416-cff8-affed7c768e8"
      },
      "execution_count": 68,
      "outputs": [
        {
          "output_type": "stream",
          "name": "stdout",
          "text": [
            "['0 0.573421 0.362335 0.264317 0.442731\\n', '0 0.282673 0.452643 0.199706 0.425110\\n', '0 0.576358 0.792952 0.587372 0.132159']\n"
          ]
        }
      ]
    },
    {
      "cell_type": "code",
      "source": [
        "\n",
        "\n",
        "for detection in file_content:\n",
        "  label, centre_x, centre_y, width, height = detection.strip().split()\n",
        "\n",
        "  centre_x, centre_y, width, height = float(centre_x), float(centre_y), float(width) , float(height)\n",
        "\n",
        "  upper_x = centre_x - (width/2)\n",
        "  upper_y = centre_y - (height/2)\n",
        "  lower_x = centre_x + (width/2)\n",
        "  lower_y = centre_y + (height/2)\n",
        "\n",
        "  x1_pixel = upper_x *  img_width\n",
        "  y1_pixel = upper_y * img_height\n",
        "  x2_pixel = lower_x * img_width\n",
        "  y2_pixel = lower_y * img_height\n",
        "\n",
        "  cv2.rectangle(img,\n",
        "                \n",
        "                (int(x1_pixel), int(y1_pixel)),\n",
        "                (int(x2_pixel), int(y2_pixel)),\n",
        "\n",
        "                color = (0, 255, 0),\n",
        "                thickness=8\n",
        "               \n",
        "              )\n"
      ],
      "metadata": {
        "id": "tkQ7ehhYcxiP"
      },
      "execution_count": 69,
      "outputs": []
    },
    {
      "cell_type": "code",
      "source": [
        "scaling_factor = 500\n",
        "plt.figure(figsize=(img_width// scaling_factor, img_height// scaling_factor))\n",
        "\n",
        "plt.imshow(img)\n",
        "plt.axis('off')"
      ],
      "metadata": {
        "colab": {
          "base_uri": "https://localhost:8080/",
          "height": 483
        },
        "id": "2N_1sJmfZHg9",
        "outputId": "312a0363-73c3-4578-e800-3976e0160dba"
      },
      "execution_count": 72,
      "outputs": [
        {
          "output_type": "execute_result",
          "data": {
            "text/plain": [
              "(-0.5, 3023.5, 4031.5, -0.5)"
            ]
          },
          "metadata": {},
          "execution_count": 72
        },
        {
          "output_type": "display_data",
          "data": {
            "text/plain": [
              "<Figure size 432x576 with 1 Axes>"
            ],
            "image/png": "[encoded data removed]"
          },
          "metadata": {
            "needs_background": "light"
          }
        }
      ]
    },
    {
      "cell_type": "code",
      "source": [
        "!pip install git+https://github.com/cocodataset/cocoapi.git#subdirectory=PythonAPI"
      ],
      "metadata": {
        "id": "8L1YwH1JkH-L",
        "outputId": "740635e8-c6ca-4252-8131-91b1ee7f16e9",
        "colab": {
          "base_uri": "https://localhost:8080/"
        }
      },
      "execution_count": 73,
      "outputs": [
        {
          "output_type": "stream",
          "name": "stdout",
          "text": [
            "Looking in indexes: https://pypi.org/simple, https://us-python.pkg.dev/colab-wheels/public/simple/\n",
            "Collecting git+https://github.com/cocodataset/cocoapi.git#subdirectory=PythonAPI\n",
            "  Cloning https://github.com/cocodataset/cocoapi.git to /tmp/pip-req-build-a0hq8jjm\n",
            "  Running command git clone -q https://github.com/cocodataset/cocoapi.git /tmp/pip-req-build-a0hq8jjm\n",
            "Requirement already satisfied: setuptools>=18.0 in /usr/local/lib/python3.7/dist-packages (from pycocotools==2.0) (57.4.0)\n",
            "Requirement already satisfied: cython>=0.27.3 in /usr/local/lib/python3.7/dist-packages (from pycocotools==2.0) (0.29.32)\n",
            "Requirement already satisfied: matplotlib>=2.1.0 in /usr/local/lib/python3.7/dist-packages (from pycocotools==2.0) (3.2.2)\n",
            "Requirement already satisfied: cycler>=0.10 in /usr/local/lib/python3.7/dist-packages (from matplotlib>=2.1.0->pycocotools==2.0) (0.11.0)\n",
            "Requirement already satisfied: python-dateutil>=2.1 in /usr/local/lib/python3.7/dist-packages (from matplotlib>=2.1.0->pycocotools==2.0) (2.8.2)\n",
            "Requirement already satisfied: pyparsing!=2.0.4,!=2.1.2,!=2.1.6,>=2.0.1 in /usr/local/lib/python3.7/dist-packages (from matplotlib>=2.1.0->pycocotools==2.0) (3.0.9)\n",
            "Requirement already satisfied: kiwisolver>=1.0.1 in /usr/local/lib/python3.7/dist-packages (from matplotlib>=2.1.0->pycocotools==2.0) (1.4.4)\n",
            "Requirement already satisfied: numpy>=1.11 in /usr/local/lib/python3.7/dist-packages (from matplotlib>=2.1.0->pycocotools==2.0) (1.21.6)\n",
            "Requirement already satisfied: typing-extensions in /usr/local/lib/python3.7/dist-packages (from kiwisolver>=1.0.1->matplotlib>=2.1.0->pycocotools==2.0) (4.1.1)\n",
            "Requirement already satisfied: six>=1.5 in /usr/local/lib/python3.7/dist-packages (from python-dateutil>=2.1->matplotlib>=2.1.0->pycocotools==2.0) (1.15.0)\n",
            "Building wheels for collected packages: pycocotools\n",
            "  Building wheel for pycocotools (setup.py) ... \u001b[?25l\u001b[?25hdone\n",
            "  Created wheel for pycocotools: filename=pycocotools-2.0-cp37-cp37m-linux_x86_64.whl size=265176 sha256=5078847ab1dc519e468943096349fa240509575170bccf7b8369540fc4dadffd\n",
            "  Stored in directory: /tmp/pip-ephem-wheel-cache-g_3jynwv/wheels/e2/6b/1d/344ac773c7495ea0b85eb228bc66daec7400a143a92d36b7b1\n",
            "Successfully built pycocotools\n",
            "Installing collected packages: pycocotools\n",
            "  Attempting uninstall: pycocotools\n",
            "    Found existing installation: pycocotools 2.0.6\n",
            "    Uninstalling pycocotools-2.0.6:\n",
            "      Successfully uninstalled pycocotools-2.0.6\n",
            "Successfully installed pycocotools-2.0\n"
          ]
        }
      ]
    },
    {
      "cell_type": "code",
      "source": [
        "import torch\n",
        "from tqdm import tqdm"
      ],
      "metadata": {
        "id": "bhmMtxHjZHZ3"
      },
      "execution_count": 74,
      "outputs": []
    },
    {
      "cell_type": "code",
      "source": [
        "# from pathlib import Path\n",
        "# from tqdm import tqdm\n",
        "# import numpy as np\n",
        "# import shutil\n",
        "# import json\n",
        "# import urllib\n",
        "# import PIL.Image as Image\n",
        "# import cv2\n",
        "# from IPython.display import display\n",
        "\n",
        "# import seaborn as sns\n",
        "# from pylab import rcParams\n",
        "# import matplotlib.pyplot as plt\n",
        "# from matplotlib import rc\n",
        "\n",
        "# from sklearn.model_selection import train_test_split\n",
        "\n",
        "# %matplotlib inline\n",
        "# %config InlineBackend.figure_format='retina'\n",
        "# sns.set(style='whitegrid', palette='muted', font_scale=1.2)\n",
        "# rcParams['figure.figsize'] = 16, 10\n",
        "\n",
        "# np.random.seed(42)"
      ],
      "metadata": {
        "id": "npo1CfoGl-ed"
      },
      "execution_count": null,
      "outputs": []
    },
    {
      "cell_type": "code",
      "source": [
        "mapping = {0: 'pen',\n",
        "           1: 'rubber',\n",
        "           2: 'scale',\n",
        "           3: 'sharpner'}"
      ],
      "metadata": {
        "id": "Yh9dritdZHRP"
      },
      "execution_count": null,
      "outputs": []
    },
    {
      "cell_type": "code",
      "source": [
        "!cat \"stationery_dataset/labels/train/ 1.txt\""
      ],
      "metadata": {
        "colab": {
          "base_uri": "https://localhost:8080/"
        },
        "id": "YWFHJcg_o9y9",
        "outputId": "cf5fb1ec-8f39-4ae7-9ecc-f64b87266e8a"
      },
      "execution_count": 75,
      "outputs": [
        {
          "output_type": "stream",
          "name": "stdout",
          "text": [
            "0 0.573421 0.362335 0.264317 0.442731\n",
            "0 0.282673 0.452643 0.199706 0.425110\n",
            "0 0.576358 0.792952 0.587372 0.132159"
          ]
        }
      ]
    },
    {
      "cell_type": "code",
      "source": [
        "! git clone https://github.com/ultralytics/yolov5"
      ],
      "metadata": {
        "colab": {
          "base_uri": "https://localhost:8080/"
        },
        "id": "4XPvF4GWpzeo",
        "outputId": "b759e7f4-ddf0-4e53-d636-b50f14f016cd"
      },
      "execution_count": 76,
      "outputs": [
        {
          "output_type": "stream",
          "name": "stdout",
          "text": [
            "Cloning into 'yolov5'...\n",
            "remote: Enumerating objects: 14806, done.\u001b[K\n",
            "remote: Counting objects: 100% (137/137), done.\u001b[K\n",
            "remote: Compressing objects: 100% (79/79), done.\u001b[K\n",
            "remote: Total 14806 (delta 78), reused 104 (delta 58), pack-reused 14669\u001b[K\n",
            "Receiving objects: 100% (14806/14806), 13.57 MiB | 15.65 MiB/s, done.\n",
            "Resolving deltas: 100% (10217/10217), done.\n"
          ]
        }
      ]
    },
    {
      "cell_type": "code",
      "source": [
        "!pwd"
      ],
      "metadata": {
        "colab": {
          "base_uri": "https://localhost:8080/"
        },
        "id": "5NVFpRlsp2Ha",
        "outputId": "53d9b280-2750-4f19-95d0-8275d8ce97cf"
      },
      "execution_count": 77,
      "outputs": [
        {
          "output_type": "stream",
          "name": "stdout",
          "text": [
            "/content\n"
          ]
        }
      ]
    },
    {
      "cell_type": "code",
      "source": [
        "%cd yolov5"
      ],
      "metadata": {
        "colab": {
          "base_uri": "https://localhost:8080/"
        },
        "id": "Kvp6b0CAv9Dg",
        "outputId": "8742c354-2f53-4ea9-d487-5d6126deebca"
      },
      "execution_count": 78,
      "outputs": [
        {
          "output_type": "stream",
          "name": "stdout",
          "text": [
            "/content/yolov5\n"
          ]
        }
      ]
    },
    {
      "cell_type": "code",
      "source": [
        "!pwd"
      ],
      "metadata": {
        "colab": {
          "base_uri": "https://localhost:8080/"
        },
        "id": "w4dRrVVBxXqL",
        "outputId": "376de9e4-7526-40d3-e4d4-a9116c399b98"
      },
      "execution_count": 79,
      "outputs": [
        {
          "output_type": "stream",
          "name": "stdout",
          "text": [
            "/content/yolov5\n"
          ]
        }
      ]
    },
    {
      "cell_type": "code",
      "source": [],
      "metadata": {
        "id": "6wxYrv0dxdUL"
      },
      "execution_count": null,
      "outputs": []
    },
    {
      "cell_type": "code",
      "source": [
        "!python train.py --img 640 --batch 4 --epochs 5 --data ./data/stationery.yaml --cfg ./models/yolov5x.yaml --weights yolov5x.pt --name yolov5x_stationery --cache"
      ],
      "metadata": {
        "colab": {
          "base_uri": "https://localhost:8080/"
        },
        "id": "bHNOYLC-x6QT",
        "outputId": "1c9b6b77-f5be-4d96-a776-cf6f6375b21b"
      },
      "execution_count": 81,
      "outputs": [
        {
          "output_type": "stream",
          "name": "stdout",
          "text": [
            "\u001b[34m\u001b[1mtrain: \u001b[0mweights=yolov5x.pt, cfg=./models/yolov5x.yaml, data=./data/stationery.yaml, hyp=data/hyps/hyp.scratch-low.yaml, epochs=5, batch_size=4, imgsz=640, rect=False, resume=False, nosave=False, noval=False, noautoanchor=False, noplots=False, evolve=None, bucket=, cache=ram, image_weights=False, device=, multi_scale=False, single_cls=False, optimizer=SGD, sync_bn=False, workers=8, project=runs/train, name=yolov5x_stationery, exist_ok=False, quad=False, cos_lr=False, label_smoothing=0.0, patience=100, freeze=[0], save_period=-1, seed=0, local_rank=-1, entity=None, upload_dataset=False, bbox_interval=-1, artifact_alias=latest\n",
            "\u001b[34m\u001b[1mgithub: \u001b[0mup to date with https://github.com/ultralytics/yolov5 ✅\n",
            "YOLOv5 🚀 v6.2-239-gf33718f Python-3.7.15 torch-1.12.1+cu113 CUDA:0 (Tesla T4, 15110MiB)\n",
            "\n",
            "\u001b[34m\u001b[1mhyperparameters: \u001b[0mlr0=0.01, lrf=0.01, momentum=0.937, weight_decay=0.0005, warmup_epochs=3.0, warmup_momentum=0.8, warmup_bias_lr=0.1, box=0.05, cls=0.5, cls_pw=1.0, obj=1.0, obj_pw=1.0, iou_t=0.2, anchor_t=4.0, fl_gamma=0.0, hsv_h=0.015, hsv_s=0.7, hsv_v=0.4, degrees=0.0, translate=0.1, scale=0.5, shear=0.0, perspective=0.0, flipud=0.0, fliplr=0.5, mosaic=1.0, mixup=0.0, copy_paste=0.0\n",
            "\u001b[34m\u001b[1mClearML: \u001b[0mrun 'pip install clearml' to automatically track, visualize and remotely train YOLOv5 🚀 in ClearML\n",
            "\u001b[34m\u001b[1mComet: \u001b[0mrun 'pip install comet_ml' to automatically track and visualize YOLOv5 🚀 runs in Comet\n",
            "\u001b[34m\u001b[1mTensorBoard: \u001b[0mStart with 'tensorboard --logdir runs/train', view at http://localhost:6006/\n",
            "Downloading https://ultralytics.com/assets/Arial.ttf to /root/.config/Ultralytics/Arial.ttf...\n",
            "100% 755k/755k [00:00<00:00, 137MB/s]\n",
            "Downloading https://github.com/ultralytics/yolov5/releases/download/v6.2/yolov5x.pt to yolov5x.pt...\n",
            "100% 166M/166M [00:21<00:00, 8.07MB/s]\n",
            "\n",
            "\n",
            "                 from  n    params  module                                  arguments                     \n",
            "  0                -1  1      8800  models.common.Conv                      [3, 80, 6, 2, 2]              \n",
            "  1                -1  1    115520  models.common.Conv                      [80, 160, 3, 2]               \n",
            "  2                -1  4    309120  models.common.C3                        [160, 160, 4]                 \n",
            "  3                -1  1    461440  models.common.Conv                      [160, 320, 3, 2]              \n",
            "  4                -1  8   2259200  models.common.C3                        [320, 320, 8]                 \n",
            "  5                -1  1   1844480  models.common.Conv                      [320, 640, 3, 2]              \n",
            "  6                -1 12  13125120  models.common.C3                        [640, 640, 12]                \n",
            "  7                -1  1   7375360  models.common.Conv                      [640, 1280, 3, 2]             \n",
            "  8                -1  4  19676160  models.common.C3                        [1280, 1280, 4]               \n",
            "  9                -1  1   4099840  models.common.SPPF                      [1280, 1280, 5]               \n",
            " 10                -1  1    820480  models.common.Conv                      [1280, 640, 1, 1]             \n",
            " 11                -1  1         0  torch.nn.modules.upsampling.Upsample    [None, 2, 'nearest']          \n",
            " 12           [-1, 6]  1         0  models.common.Concat                    [1]                           \n",
            " 13                -1  4   5332480  models.common.C3                        [1280, 640, 4, False]         \n",
            " 14                -1  1    205440  models.common.Conv                      [640, 320, 1, 1]              \n",
            " 15                -1  1         0  torch.nn.modules.upsampling.Upsample    [None, 2, 'nearest']          \n",
            " 16           [-1, 4]  1         0  models.common.Concat                    [1]                           \n",
            " 17                -1  4   1335040  models.common.C3                        [640, 320, 4, False]          \n",
            " 18                -1  1    922240  models.common.Conv                      [320, 320, 3, 2]              \n",
            " 19          [-1, 14]  1         0  models.common.Concat                    [1]                           \n",
            " 20                -1  4   4922880  models.common.C3                        [640, 640, 4, False]          \n",
            " 21                -1  1   3687680  models.common.Conv                      [640, 640, 3, 2]              \n",
            " 22          [-1, 10]  1         0  models.common.Concat                    [1]                           \n",
            " 23                -1  4  19676160  models.common.C3                        [1280, 1280, 4, False]        \n",
            " 24      [17, 20, 23]  1     60561  models.yolo.Detect                      [4, [[10, 13, 16, 30, 33, 23], [30, 61, 62, 45, 59, 119], [116, 90, 156, 198, 373, 326]], [320, 640, 1280]]\n",
            "YOLOv5x summary: 445 layers, 86238001 parameters, 86238001 gradients, 204.7 GFLOPs\n",
            "\n",
            "Transferred 738/745 items from yolov5x.pt\n",
            "\u001b[34m\u001b[1mAMP: \u001b[0mchecks passed ✅\n",
            "\u001b[34m\u001b[1moptimizer:\u001b[0m SGD(lr=0.01) with parameter groups 123 weight(decay=0.0), 126 weight(decay=0.0005), 126 bias\n",
            "\u001b[34m\u001b[1malbumentations: \u001b[0mBlur(p=0.01, blur_limit=(3, 7)), MedianBlur(p=0.01, blur_limit=(3, 7)), ToGray(p=0.01), CLAHE(p=0.01, clip_limit=(1, 4.0), tile_grid_size=(8, 8))\n",
            "\u001b[34m\u001b[1mtrain: \u001b[0mScanning '/content/stationery_dataset/labels/train' images and labels...200 found, 0 missing, 0 empty, 0 corrupt: 100% 200/200 [00:00<00:00, 553.33it/s]\n",
            "\u001b[34m\u001b[1mtrain: \u001b[0mNew cache created: /content/stationery_dataset/labels/train.cache\n",
            "\u001b[34m\u001b[1mtrain: \u001b[0mCaching images (0.2GB ram): 100% 200/200 [00:41<00:00,  4.81it/s]\n",
            "\u001b[34m\u001b[1mval: \u001b[0mScanning '/content/stationery_dataset/labels/val' images and labels...32 found, 0 missing, 0 empty, 0 corrupt: 100% 32/32 [00:00<00:00, 272.54it/s]\n",
            "\u001b[34m\u001b[1mval: \u001b[0mNew cache created: /content/stationery_dataset/labels/val.cache\n",
            "\u001b[34m\u001b[1mval: \u001b[0mCaching images (0.0GB ram): 100% 32/32 [00:08<00:00,  3.92it/s]\n",
            "\n",
            "\u001b[34m\u001b[1mAutoAnchor: \u001b[0m3.42 anchors/target, 0.998 Best Possible Recall (BPR). Current anchors are a good fit to dataset ✅\n",
            "Plotting labels to runs/train/yolov5x_stationery/labels.jpg... \n",
            "Image sizes 640 train, 640 val\n",
            "Using 2 dataloader workers\n",
            "Logging results to \u001b[1mruns/train/yolov5x_stationery\u001b[0m\n",
            "Starting training for 5 epochs...\n",
            "\n",
            "      Epoch    GPU_mem   box_loss   obj_loss   cls_loss  Instances       Size\n",
            "        0/4      4.55G    0.09353    0.04226    0.03982         28        640: 100% 50/50 [00:20<00:00,  2.48it/s]\n",
            "                 Class     Images  Instances          P          R      mAP50   mAP50-95: 100% 4/4 [00:02<00:00,  1.98it/s]\n",
            "                   all         32         68     0.0775      0.205      0.104     0.0307\n",
            "\n",
            "      Epoch    GPU_mem   box_loss   obj_loss   cls_loss  Instances       Size\n",
            "        1/4      4.94G    0.07397    0.04071    0.02803         15        640: 100% 50/50 [00:14<00:00,  3.42it/s]\n",
            "                 Class     Images  Instances          P          R      mAP50   mAP50-95: 100% 4/4 [00:00<00:00,  5.34it/s]\n",
            "                   all         32         68      0.835      0.155      0.104      0.027\n",
            "\n",
            "      Epoch    GPU_mem   box_loss   obj_loss   cls_loss  Instances       Size\n",
            "        2/4      4.94G    0.07102    0.03554    0.01909         19        640: 100% 50/50 [00:15<00:00,  3.33it/s]\n",
            "                 Class     Images  Instances          P          R      mAP50   mAP50-95: 100% 4/4 [00:00<00:00,  5.63it/s]\n",
            "                   all         32         68      0.843     0.0909       0.11     0.0274\n",
            "\n",
            "      Epoch    GPU_mem   box_loss   obj_loss   cls_loss  Instances       Size\n",
            "        3/4      4.94G     0.0706    0.03228    0.01626         18        640: 100% 50/50 [00:14<00:00,  3.40it/s]\n",
            "                 Class     Images  Instances          P          R      mAP50   mAP50-95: 100% 4/4 [00:00<00:00,  5.62it/s]\n",
            "                   all         32         68      0.697      0.336      0.386      0.123\n",
            "\n",
            "      Epoch    GPU_mem   box_loss   obj_loss   cls_loss  Instances       Size\n",
            "        4/4      4.94G    0.05965    0.03212    0.01402         17        640: 100% 50/50 [00:15<00:00,  3.27it/s]\n",
            "                 Class     Images  Instances          P          R      mAP50   mAP50-95: 100% 4/4 [00:00<00:00,  5.54it/s]\n",
            "                   all         32         68      0.614      0.514      0.509      0.188\n",
            "\n",
            "5 epochs completed in 0.030 hours.\n",
            "Optimizer stripped from runs/train/yolov5x_stationery/weights/last.pt, 173.1MB\n",
            "Optimizer stripped from runs/train/yolov5x_stationery/weights/best.pt, 173.1MB\n",
            "\n",
            "Validating runs/train/yolov5x_stationery/weights/best.pt...\n",
            "Fusing layers... \n",
            "YOLOv5x summary: 322 layers, 86193601 parameters, 0 gradients, 203.8 GFLOPs\n",
            "                 Class     Images  Instances          P          R      mAP50   mAP50-95: 100% 4/4 [00:01<00:00,  3.14it/s]\n",
            "                   all         32         68      0.615      0.514      0.509      0.188\n",
            "                   pen         32         55      0.234          1      0.684      0.298\n",
            "                rubber         32          1          1          0      0.249     0.0837\n",
            "                 scale         32          5      0.768        0.2      0.345      0.197\n",
            "              sharpner         32          7      0.457      0.857      0.758      0.173\n",
            "Results saved to \u001b[1mruns/train/yolov5x_stationery\u001b[0m\n"
          ]
        }
      ]
    },
    {
      "cell_type": "code",
      "source": [
        "# !nvidia-smi"
      ],
      "metadata": {
        "id": "xAyvuKbeNsLi"
      },
      "execution_count": null,
      "outputs": []
    },
    {
      "cell_type": "code",
      "source": [
        "# !git clone https://github.com/NVIDIA/apex\n"
      ],
      "metadata": {
        "id": "KlFS5QyXwVzp"
      },
      "execution_count": null,
      "outputs": []
    },
    {
      "cell_type": "code",
      "source": [
        "# %cd apex"
      ],
      "metadata": {
        "id": "hfUGbU_1xRtD"
      },
      "execution_count": null,
      "outputs": []
    },
    {
      "cell_type": "code",
      "source": [
        "# !pip install -v --no-cache-dir --global-option=\"--cpp_ext\" --global-option=\"--cuda_ext\" ./"
      ],
      "metadata": {
        "id": "gYSRBA0gxWC1"
      },
      "execution_count": null,
      "outputs": []
    },
    {
      "cell_type": "code",
      "source": [
        "# !pip install PyYAML==5.3.1"
      ],
      "metadata": {
        "id": "s3OQaeTvxtaw"
      },
      "execution_count": null,
      "outputs": []
    },
    {
      "cell_type": "code",
      "source": [],
      "metadata": {
        "id": "vZsm9Igj4xPt"
      },
      "execution_count": null,
      "outputs": []
    }
  ],
  "metadata": {
    "colab": {
      "collapsed_sections": [],
      "name": "Welcome To Colaboratory",
      "provenance": [],
      "include_colab_link": true
    },
    "kernelspec": {
      "display_name": "Python 3",
      "name": "python3"
    },
    "accelerator": "GPU",
    "gpuClass": "standard"
  },
  "nbformat": 4,
  "nbformat_minor": 0
}