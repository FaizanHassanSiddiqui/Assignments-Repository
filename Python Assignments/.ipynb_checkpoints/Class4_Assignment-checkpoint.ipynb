{
 "cells": [
  {
   "cell_type": "markdown",
   "metadata": {},
   "source": [
    "# Tasks list"
   ]
  },
  {
   "cell_type": "raw",
   "metadata": {},
   "source": [
    "1. Write a Python Program to Check Whether a Number is Positive or Negative.\n",
    "\n",
    "2. Write a Python Program to Take in the Marks of 5 Subjects and Display the Grade.\n",
    "\n",
    "3. Write a Python Program to Read Two Numbers and Print Their Quotient and Remainder.\n",
    "\n",
    "4. Write a Python Program to Print all Integers that Aren’t Divisible by Either 2 or 3 and Lie\n",
    "   between 1 and 50.\n",
    "\n",
    "5. Write a Python Program to Exchange the Values of Two Numbers Without Using a Temporary\n",
    "   Variable.\n",
    "\n",
    "6. Write a Python Program to Find the Area of a Triangle Given All Three Sides.\n",
    "\n",
    "7. Write a Python Program to Print Largest Even and Largest Odd Number in a List.\n",
    "\n",
    "8. Write a Python Program to Find the Second Largest Number in a List.\n",
    "\n",
    "9. Write a Python Program to Find the Union of two Lists.\n"
   ]
  },
  {
   "cell_type": "markdown",
   "metadata": {},
   "source": [
    "# TASK 1 ----  Check Whether a Number is Positive or Negative."
   ]
  },
  {
   "cell_type": "code",
   "execution_count": 22,
   "metadata": {},
   "outputs": [
    {
     "name": "stdout",
     "output_type": "stream",
     "text": [
      "Please, enter a number: hh\n",
      "Invalid entry! Please enter a number: bs\n",
      "Invalid entry! Please enter a number: b\n",
      "Invalid entry! Please enter a number: eek\n",
      "Invalid entry! Please enter a number: -4\n",
      "The number that you have entered is a negative number.\n"
     ]
    }
   ],
   "source": [
    "number = input(\"Please, enter a number: \")\n",
    "\n",
    "while True:\n",
    "    if number.isdigit():\n",
    "        break\n",
    "    elif number.startswith(\"-\") and number[1:].isdigit():\n",
    "        break\n",
    "    else:\n",
    "        number = input(\"Invalid entry! Please enter a number: \")\n",
    "           \n",
    "\n",
    "if int(number) > 0:\n",
    "    print(\"The number that you have entered is a positive number.\")\n",
    "elif int(number) < 0:\n",
    "    print(\"The number that you have entered is a negative number.\")\n",
    "else:\n",
    "    print(\"The number that you have entered is a neutral number.\")"
   ]
  },
  {
   "cell_type": "markdown",
   "metadata": {},
   "source": [
    "# TASK 2 --- Take in the Marks of 5 Subjects and Display the Grade."
   ]
  },
  {
   "cell_type": "code",
   "execution_count": 26,
   "metadata": {},
   "outputs": [
    {
     "name": "stdout",
     "output_type": "stream",
     "text": [
      "Enter your marks in Maths: he\n",
      "Invalid Entry! Please, enter a number between 0 and 100 inclusive.ghe\n",
      "Invalid Entry! Please, enter a number between 0 and 100 inclusive.-0\n",
      "Invalid Entry! Please, enter a number between 0 and 100 inclusive.87\n",
      "Enter your marks in Physics: 75\n",
      "Enter your marks in Computer Studies: 55\n",
      "Enter your marks in Chemistry: 48\n",
      "Enter your marks in Biology: jg\n",
      "Invalid Entry! Please, enter a number between 0 and 100 inclusive.87\n",
      "\n",
      "The marks you have entered are  [87, 75, 55, 48, 87]\n",
      "The grades in the subjects are  ['B', 'C', 'FAIL', 'FAIL', 'B']\n",
      "\n",
      "Your percentage is 70.4\n",
      "Congratulations! You are PASS!\n"
     ]
    }
   ],
   "source": [
    "subjects = [\"Maths\", \"Physics\", \"Computer Studies\", \"Chemistry\", \"Biology\" ]\n",
    "marks = [] \n",
    "grades = []\n",
    "\n",
    "for i in subjects:\n",
    "    x = input(\"Enter your marks in \"+ i +\": \")\n",
    "    \n",
    "    while True:\n",
    "        \n",
    "        if x.isdigit() and int(x) <= 100:\n",
    "            break\n",
    "        else:\n",
    "            x = input(\"Invalid Entry! Please, enter a number between 0 and 100 inclusive.\")\n",
    "    \n",
    "    x = int(x)\n",
    "    \n",
    "    if x <=100 and x>=0:\n",
    "        if x > 90 and x <= 100:\n",
    "            grade = \"A\"\n",
    "            grades.append(grade)\n",
    "        elif x > 80:\n",
    "            grade = \"B\"\n",
    "            grades.append(grade)\n",
    "        elif x > 70:\n",
    "            grade = \"C\"\n",
    "            grades.append(grade)\n",
    "        elif x > 60:\n",
    "            grade = \"D\"\n",
    "            grades.append(grade)\n",
    "        elif x<= 60:\n",
    "            grade = \"FAIL\"\n",
    "            grades.append(grade)\n",
    "   \n",
    "    marks.append(x)\n",
    "\n",
    "print(\"\\nThe marks you have entered are \", marks)\n",
    "print(\"The grades in the subjects are \", grades)\n",
    "\n",
    "total = 0\n",
    "for n in marks:\n",
    "    total += n\n",
    "\n",
    "avg= total/5\n",
    "print(f\"\\nYour percentage is {avg}\")\n",
    "\n",
    "if avg >= 70:\n",
    "    print(\"Congratulations! You are PASS!\")\n",
    "else:\n",
    "    print(\"Sorry! You are FAIL! You scored less than 70% overall...\")\n"
   ]
  },
  {
   "cell_type": "markdown",
   "metadata": {},
   "source": [
    "# TASK 3 --- Read Two Numbers and Print Their Quotient and Remainder."
   ]
  },
  {
   "cell_type": "code",
   "execution_count": 23,
   "metadata": {},
   "outputs": [
    {
     "name": "stdout",
     "output_type": "stream",
     "text": [
      "This program tell the quotient and the remainder when two numbers are divided.\n",
      "\n",
      "Enter the first number: 67\n",
      "Enter the second number: 56\n",
      "The quotient is 1\n",
      "The remainder is 11\n"
     ]
    }
   ],
   "source": [
    "print(\"This program tell the quotient and the remainder when two numbers are divided.\\n\")\n",
    "\n",
    "first_number = int(input(\"Enter the first number: \"))\n",
    "second_number = int(input(\"Enter the second number: \"))\n",
    "\n",
    "quotient = first_number // second_number\n",
    "print(f'The quotient is {quotient}')\n",
    "remainder = first_number % second_number\n",
    "print(f'The remainder is {remainder}')\n"
   ]
  },
  {
   "cell_type": "markdown",
   "metadata": {},
   "source": [
    "# TASK 4 --- Print all Integers that Aren’t Divisible by Either 2 or 3 and Lie between 1 and 50."
   ]
  },
  {
   "cell_type": "code",
   "execution_count": 20,
   "metadata": {},
   "outputs": [
    {
     "name": "stdout",
     "output_type": "stream",
     "text": [
      "This prgram prints all the numbers 1 through 50 which are neither divisible by 2 nor by 3.\n",
      "\n",
      "Press space to see: hh\n",
      "Please, enter space to print numbers! 66\n",
      "Please, enter space to print numbers! 44\n",
      "Please, enter space to print numbers!  \n",
      "1\n",
      "5\n",
      "7\n",
      "11\n",
      "13\n",
      "17\n",
      "19\n",
      "23\n",
      "25\n",
      "29\n",
      "31\n",
      "35\n",
      "37\n",
      "41\n",
      "43\n",
      "47\n",
      "49\n"
     ]
    }
   ],
   "source": [
    "print(\"This prgram prints all the numbers 1 through 50 which are neither divisible by 2 nor by 3.\")\n",
    "s = input(\"\\nPress space to see: \")\n",
    "\n",
    "while True:\n",
    "    if s==\" \":\n",
    "        for i in range(51):\n",
    "            if i % 2 != 0 and i % 3 != 0:\n",
    "                print(i)\n",
    "        break\n",
    "    else:\n",
    "        s = input(\"Please, enter space to print numbers! \")\n",
    "    "
   ]
  },
  {
   "cell_type": "markdown",
   "metadata": {},
   "source": [
    "# TASK 5 --- Exchange the Values of Two Numbers Without Using a Temporary Variable."
   ]
  },
  {
   "cell_type": "code",
   "execution_count": 5,
   "metadata": {
    "scrolled": true
   },
   "outputs": [
    {
     "name": "stdout",
     "output_type": "stream",
     "text": [
      "This programs swaps the values in two variables.\n",
      "\n",
      "Enter the first number: 67\n",
      "Enter the second number: 98\n",
      "67\n",
      "98\n",
      "Now the swapped first number is  98\n",
      "And the swapped second number is  67\n"
     ]
    }
   ],
   "source": [
    "print(\"This programs swaps the values in two variables.\\n\")\n",
    "\n",
    "numberFirst = int(input(\"Enter the first number: \"))\n",
    "numberSecond = int(input(\"Enter the second number: \"))\n",
    "print(numberFirst)\n",
    "print(numberSecond)\n",
    "\n",
    "numberFirst = numberFirst + numberSecond\n",
    "numberSecond = numberFirst - numberSecond\n",
    "numberFirst = numberFirst - numberSecond  \n",
    "\n",
    "print(\"Now the swapped first number is \", numberFirst)\n",
    "print(\"And the swapped second number is \", numberSecond)"
   ]
  },
  {
   "cell_type": "markdown",
   "metadata": {},
   "source": [
    "# TASK 6 --- Find the Area of a Triangle Given All Three Sides."
   ]
  },
  {
   "cell_type": "code",
   "execution_count": 27,
   "metadata": {},
   "outputs": [
    {
     "name": "stdout",
     "output_type": "stream",
     "text": [
      "This program calculates the area of triangle if provided length of each side of that triengle.\n",
      "\n",
      "Please enter the length of a side of a triangle : 6\n",
      "Please enter the length of second side of the triangle : 8\n",
      "Please enter the length of third side of the triangle : 10\n",
      "The area of triangle is 24.0\n"
     ]
    }
   ],
   "source": [
    "print(\"This program calculates the area of triangle if provided length of each side of that triengle.\\n\")\n",
    "\n",
    "side1 = int(input(\"Please enter the length of a side of a triangle : \"))\n",
    "side2 = int(input(\"Please enter the length of second side of the triangle : \"))\n",
    "side3 = int(input(\"Please enter the length of third side of the triangle : \"))\n",
    "\n",
    "semiPeri = (side1 + side2 + side3)/ 2\n",
    "\n",
    "Area = (semiPeri * (semiPeri - side1) * (semiPeri - side2) * (semiPeri - side3))**0.5\n",
    "\n",
    "\n",
    "print(f'The area of triangle is {Area}')"
   ]
  },
  {
   "cell_type": "markdown",
   "metadata": {},
   "source": [
    "# TASK 7 --- Print Largest Even and Largest Odd Number in a List."
   ]
  },
  {
   "cell_type": "code",
   "execution_count": 16,
   "metadata": {},
   "outputs": [
    {
     "name": "stdout",
     "output_type": "stream",
     "text": [
      "This program tells the largest even and/or odd number entered.\n",
      "\n",
      "\n",
      "Enter a number or press N/n to exit : 87\n",
      "Enter a number or press N/n to exit : 36\n",
      "Enter a number or press N/n to exit : 55\n",
      "Enter a number or press N/n to exit : 66\n",
      "Enter a number or press N/n to exit : 7\n",
      "Enter a number or press N/n to exit : 7\n",
      "Enter a number or press N/n to exit : 7\n",
      "Enter a number or press N/n to exit : 7\n",
      "Enter a number or press N/n to exit : 88\n",
      "Enter a number or press N/n to exit : 89\n",
      "Enter a number or press N/n to exit : 87\n",
      "Enter a number or press N/n to exit : 89\n",
      "Enter a number or press N/n to exit : 87\n",
      "Enter a number or press N/n to exit : n\n",
      "\n",
      "Your list is  [87, 36, 55, 66, 7, 7, 7, 7, 88, 89, 87, 89, 87]\n",
      "\n",
      "largest odd number entered is 89\n",
      "\n",
      "largest even number entered is 88\n"
     ]
    }
   ],
   "source": [
    "print(\"This program tells the largest even and/or odd number entered.\\n\\n\")\n",
    "\n",
    "mylist = []\n",
    "even = []\n",
    "odd = []\n",
    "\n",
    "while True:\n",
    "    x = input(\"Enter a number or press N/n to exit : \")\n",
    "    \n",
    "    if x == 'N' or x == 'n':\n",
    "        break\n",
    "    \n",
    "    while not x.isdigit():\n",
    "        x = input(\"Invalid Entry! Please enter a non-negative integer or enter N/n to break : \")\n",
    "        if x == 'N' or x == 'n':\n",
    "            break\n",
    "            \n",
    "    if x == 'N' or x == 'n':\n",
    "        break\n",
    "            \n",
    "    mylist.append(int(x))\n",
    "\n",
    "print(\"\\nYour list is \", mylist)\n",
    "        \n",
    "for item in mylist:\n",
    "    if item % 2 ==0:\n",
    "        even.append(item)\n",
    "    else:\n",
    "        odd.append(item)\n",
    "\n",
    "if len(odd) == 0:\n",
    "    print(\"You didn't write any odd number.\")\n",
    "else:\n",
    "    print(\"\\nlargest odd number entered is\", max(odd))\n",
    "if len(even) == 0:\n",
    "    print(\"You didn't write any even number.\")\n",
    "else:\n",
    "    print('\\nlargest even number entered is', max(even))"
   ]
  },
  {
   "cell_type": "markdown",
   "metadata": {},
   "source": [
    "# TASK 8 --- Find the Second Largest Number in a List."
   ]
  },
  {
   "cell_type": "code",
   "execution_count": 13,
   "metadata": {},
   "outputs": [
    {
     "name": "stdout",
     "output_type": "stream",
     "text": [
      "Enter a non-negative number or press N/n to break : 54\n",
      "Enter a non-negative number or press N/n to break : gf\n",
      "Invalid Entry! Please enter a non-negative integer or enter N/n to break : 76\n",
      "Enter a non-negative number or press N/n to break : n\n",
      "\n",
      " [54, 76]\n",
      "\n",
      "The second largest number entered is  54\n"
     ]
    }
   ],
   "source": [
    "list_1 = []\n",
    "\n",
    "while True:\n",
    "    b = input(\"Enter a non-negative number or press N/n to break : \")\n",
    "   \n",
    "        \n",
    "    if b == 'N' or b == 'n':\n",
    "        break\n",
    "     \n",
    "    while not b.isdigit():\n",
    "        b = input(\"Invalid Entry! Please enter a non-negative integer or enter N/n to break : \")\n",
    "        if b == 'N' or b == 'n':\n",
    "            break\n",
    "        \n",
    "    if b == 'N' or b == 'n':\n",
    "        break\n",
    "     \n",
    "    list_1.append(int(b))\n",
    "\n",
    "print(\"\\n\", list_1)\n",
    "\n",
    "\n",
    "if len(list_1) >= 2:\n",
    "    maximum = list_1[0]\n",
    "    for i in list_1:\n",
    "        if i > maximum:\n",
    "            maximum = i\n",
    "\n",
    "    second_largest = 0\n",
    "    for i in list_1:\n",
    "        if i > second_largest and i < maximum:\n",
    "            second_largest = i\n",
    "    \n",
    "    print(\"\\nThe second largest number entered is \", second_largest)\n",
    "\n",
    "else:\n",
    "    print(\"\\nYou entered less than two numbers. Please, enter at least two numbers!\")\n",
    "\n"
   ]
  },
  {
   "cell_type": "markdown",
   "metadata": {},
   "source": [
    "# TASK 9 --- Find the Union of two Lists."
   ]
  },
  {
   "cell_type": "code",
   "execution_count": 21,
   "metadata": {},
   "outputs": [
    {
     "name": "stdout",
     "output_type": "stream",
     "text": [
      "enter an item to put in list 1 or press space to break : 76\n",
      "enter an item to put in list 1 or press space to break : bbf\n",
      "enter an item to put in list 1 or press space to break : ebei\n",
      "enter an item to put in list 1 or press space to break : faizan\n",
      "enter an item to put in list 1 or press space to break : faizan\n",
      "enter an item to put in list 1 or press space to break : faizan\n",
      "enter an item to put in list 1 or press space to break : faizan \n",
      "enter an item to put in list 1 or press space to break : -yt5\n",
      "enter an item to put in list 1 or press space to break : -yt5\n",
      "enter an item to put in list 1 or press space to break : hassan\n",
      "enter an item to put in list 1 or press space to break : hassan\n",
      "enter an item to put in list 1 or press space to break :  hassan\n",
      "enter an item to put in list 1 or press space to break :  \n",
      "\n",
      "You are done creating the first list.\n",
      "\n",
      "enter an item to put in list 2 or press space to break : 55\n",
      "enter an item to put in list 2 or press space to break : 55\n",
      "enter an item to put in list 2 or press space to break : 67\n",
      "enter an item to put in list 2 or press space to break : faizan\n",
      "enter an item to put in list 2 or press space to break : faizan\n",
      "enter an item to put in list 2 or press space to break :  hassan\n",
      "enter an item to put in list 2 or press space to break : hassan\n",
      "enter an item to put in list 2 or press space to break : siddiqui\n",
      "enter an item to put in list 2 or press space to break : 76\n",
      "enter an item to put in list 2 or press space to break : bbf\n",
      "enter an item to put in list 2 or press space to break :  \n",
      "\n",
      "You are done creating the second list.\n",
      "\n",
      "Your first list is  ['76', 'bbf', 'ebei', 'faizan', 'faizan', 'faizan', 'faizan ', '-yt5', '-yt5', 'hassan', 'hassan', ' hassan']\n",
      "\n",
      "Your second list is  ['55', '55', '67', 'faizan', 'faizan', ' hassan', 'hassan', 'siddiqui', '76', 'bbf']\n",
      "\n",
      "First list after striking off repeating elements is  ['76', 'bbf', 'ebei', 'faizan', 'faizan ', '-yt5', 'hassan', ' hassan']\n",
      "\n",
      "Union of the two lists is  ['76', 'bbf', 'ebei', 'faizan', 'faizan ', '-yt5', 'hassan', ' hassan', '55', '67', 'siddiqui']\n"
     ]
    }
   ],
   "source": [
    "list1= []\n",
    "list2=[]\n",
    "\n",
    "while True:\n",
    "    e= input(\"enter an item to put in list 1 or press space to break : \")\n",
    "    \n",
    "    if e == ' ':\n",
    "        break\n",
    "    \n",
    "    list1.append(e)\n",
    "\n",
    "print(\"\\nYou are done creating the first list.\\n\")\n",
    "\n",
    "while True:\n",
    "    m= input(\"enter an item to put in list 2 or press space to break : \")\n",
    "    \n",
    "    if m == ' ':\n",
    "        break\n",
    "    \n",
    "    list2.append(m)\n",
    "\n",
    "print(\"\\nYou are done creating the second list.\")\n",
    "    \n",
    "print(\"\\nYour first list is \", list1)\n",
    "print(\"\\nYour second list is \", list2)\n",
    "\n",
    "for itemm in list1:\n",
    "    while list1.count(itemm) > 1:\n",
    "        list1.remove(itemm)\n",
    "        \n",
    "print(\"\\nFirst list after striking off repeating elements is \", list1)\n",
    "\n",
    "\n",
    "for mem in list2:\n",
    "    if mem not in list1:\n",
    "        list1.append(mem)\n",
    "\n",
    "print(\"\\nUnion of the two lists is \", list1)"
   ]
  }
 ],
 "metadata": {
  "kernelspec": {
   "display_name": "Python 3",
   "language": "python",
   "name": "python3"
  },
  "language_info": {
   "codemirror_mode": {
    "name": "ipython",
    "version": 3
   },
   "file_extension": ".py",
   "mimetype": "text/x-python",
   "name": "python",
   "nbconvert_exporter": "python",
   "pygments_lexer": "ipython3",
   "version": "3.7.4"
  }
 },
 "nbformat": 4,
 "nbformat_minor": 2
}
